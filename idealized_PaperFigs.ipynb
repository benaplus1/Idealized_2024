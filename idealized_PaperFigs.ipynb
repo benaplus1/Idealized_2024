{
 "cells": [
  {
   "cell_type": "code",
   "execution_count": null,
   "id": "510f32bf-af4e-4a73-bf78-b73954f01a6c",
   "metadata": {},
   "outputs": [],
   "source": [
    "import numpy as np\n",
    "import xarray as xr\n",
    "import matplotlib.pyplot as plt\n",
    "%matplotlib inline\n",
    "from matplotlib.style import use as usestyle\n",
    "from matplotlib.colors import BoundaryNorm\n",
    "from datetime import datetime, timedelta\n",
    "from os import path, mkdir\n",
    "from importlib import reload\n",
    "import makevids as mkv\n",
    "from astropy.convolution import convolve\n",
    "from glob import glob\n",
    "from time import perf_counter\n",
    "from concurrent.futures import ProcessPoolExecutor\n",
    "# import pyvista as pv"
   ]
  },
  {
   "cell_type": "code",
   "execution_count": null,
   "id": "0338d868-3d28-4864-aa1d-a31249dafa86",
   "metadata": {},
   "outputs": [],
   "source": [
    "# forestflux_wetsoil = "
   ]
  },
  {
   "cell_type": "code",
   "execution_count": null,
   "id": "4d1f29f5-64ff-46db-ab90-53b7b4b48895",
   "metadata": {},
   "outputs": [],
   "source": [
    "from matplotlib import font_manager as fm\n",
    "fontdir = \"/home/ascheb/libfonts/*.ttf\"\n",
    "for fpath in glob(fontdir):\n",
    "    fm.fontManager.addfont(fpath)\n",
    "usestyle(\"/home/ascheb/paperplots.mplstyle\")\n",
    "from matplotlib import rcParams\n",
    "rcParams['mathtext.fontset'] = 'custom'\n",
    "rcParams['mathtext.rm'] = 'Liberation Serif'\n",
    "rcParams['mathtext.it'] = 'Liberation Serif'\n",
    "rcParams['mathtext.bf'] = 'Liberation Serif'"
   ]
  },
  {
   "cell_type": "code",
   "execution_count": null,
   "id": "e63f92b7-fa08-48c0-8ea7-4e9db09fc16c",
   "metadata": {},
   "outputs": [],
   "source": [
    "def calc_mse(datasub):\n",
    "    return((1/(1+datasub[\"VaporMix\"]/1000))*datasub[\"Temperature\"]+\n",
    "           (datasub[\"VaporMix\"]/1000/(1+datasub[\"VaporMix\"]/1000))*(1864/1004)+\n",
    "           (datasub[\"VaporMix\"]/1000/(1+datasub[\"VaporMix\"]/1000))*(2.5*10**6/1004)+\n",
    "           9.81*datasub[\"z\"]/1004)"
   ]
  },
  {
   "cell_type": "markdown",
   "id": "91a3c5fc-0f76-4352-9834-651ce2e7c1d4",
   "metadata": {},
   "source": [
    "## Load Model Data from End of the Simulation for Precip Comparison"
   ]
  },
  {
   "cell_type": "code",
   "execution_count": null,
   "id": "f70ba7d2-2e55-428a-b93a-12ad6a89fe1c",
   "metadata": {},
   "outputs": [],
   "source": [
    "ftime = \"2022-06-18-000000\"\n",
    "afile_pasture_end = xr.open_dataset(f\"/moonbow/ascheb/idealized/unipasture-wind/ppfiles_paper/mvars-cart-{ftime}-g1.nc\")\n",
    "afile_suburb_end = xr.open_dataset(f\"/moonbow/ascheb/idealized/unisuburb-wind/ppfiles_paper/mvars-cart-{ftime}-g1.nc\")\n",
    "afile_coniforest_end = xr.open_dataset(f\"/moonbow/ascheb/idealized/coniforest-wind/ppfiles_paper/mvars-cart-{ftime}-g1.nc\")\n",
    "afile_pastureconiforest_end = xr.open_dataset(f\"/moonbow/ascheb/idealized/pastureconiforest-wind/ppfiles_paper/mvars-cart-{ftime}-g1.nc\")\n",
    "afile_suburbconiforest_end = xr.open_dataset(f\"/moonbow/ascheb/idealized/suburbconiforest-wind/ppfiles_paper/mvars-cart-{ftime}-g1.nc\")\n",
    "afile_suburbpasture_end = xr.open_dataset(f\"/moonbow/ascheb/idealized/suburbpasture-wind/ppfiles_paper/mvars-cart-{ftime}-g1.nc\")"
   ]
  },
  {
   "cell_type": "markdown",
   "id": "3ee55dd0-bc73-45e0-b9e7-6d90922f7d9c",
   "metadata": {},
   "source": [
    "## Plot of Model Domains"
   ]
  },
  {
   "cell_type": "code",
   "execution_count": null,
   "id": "8f40b331-3ecc-4c0e-bc6d-32e264677508",
   "metadata": {},
   "outputs": [],
   "source": [
    "fig, ((ax11, ax12, ax13), (ax21, ax22, ax23)) = plt.subplots(2, 3, figsize = (4,5), dpi = 200, layout = \"compressed\")\n",
    "axlabels = [\"(a)\", \"(b)\", \"(c)\", \"(d)\", \"(e)\", \"(f)\"]\n",
    "for i, ax in enumerate(fig.get_axes()):\n",
    "    ax.set_aspect(1)\n",
    "    ax.set_yticks([0, 300, 800], labels = [-150, \"0  \", 250])\n",
    "    ax.set_xticks([0, 100, 200, 300, 400], labels = [-100, -50, 0, 50, 100])\n",
    "    left, width = 0, 0.16\n",
    "    bottom, height = 0.92, 0.08\n",
    "    right = left + width\n",
    "    top = bottom + height\n",
    "    p = plt.Rectangle((left, bottom), width, height, fill=True, zorder = 3, edgecolor = \"black\", linewidth = 0.2, facecolor = \"white\")\n",
    "    p.set_transform(ax.transAxes)\n",
    "    p.set_clip_on(False)\n",
    "    ax.add_patch(p)\n",
    "    ax.text(left+0.5*width, bottom+0.5*height, axlabels[i], fontsize = 6.5, transform = ax.transAxes, horizontalalignment = \"center\", verticalalignment = \"center\")\n",
    "for ax in (ax11, ax21):\n",
    "    ax.set_ylabel(\"Distance from Shore (km)\")\n",
    "    ax.tick_params(axis = \"x\", bottom = False, labelbottom = False, left = True, labelleft = True)\n",
    "ax22.set_xlabel(\"Distance from Center (km)\")\n",
    "for ax in (ax12, ax13, ax23):\n",
    "    ax.tick_params(axis = \"both\", bottom = False, left = False, labelbottom = False, labeltop = False, labelleft = False)\n",
    "ax22.tick_params(axis = \"y\", left = False, labelleft = False, bottom = True, labelbottom = True)\n",
    "# for ax in (ax21, ax22, ax23):\n",
    "#     forestbounds = ax.plot([100, 100], [300, 800], color = \"black\", linestyle = \"--\", label = \"Stripe Boundaries\", linewidth = 0.5)\n",
    "#     ax.plot([300, 300], [300, 800], color = \"black\", linestyle = \"--\", linewidth = 0.5)\n",
    "# for ax in fig.get_axes():\n",
    "#     shoreline = ax.axhline(301, color = \"white\", linestyle = \"--\", label = \"Shoreline\", linewidth = 0.5)\n",
    "#     ax.legend(loc  = \"lower left\", framealpha = 0, fontsize = 6.5, labelcolor = \"white\", bbox_to_anchor = (0, 0), borderaxespad = 0, borderpad = 0.1)\n",
    "ax11.set_title(\"Uniform Pasture (UP)\", fontfamily = \"Liberation Serif\", y = 1.02)\n",
    "ax12.set_title(\"Uniform Forest (UF)\", fontfamily = \"Liberation Serif\", y = 1.02)\n",
    "ax13.set_title(\"Uniform Suburb (US)\", fontfamily = \"Liberation Serif\", y = 1.02)\n",
    "ax21.set_title(\"Pasture-Forest (PF)\", fontfamily = \"Liberation Serif\", y = 1.02)\n",
    "ax22.set_title(\"Suburb-Forest (SF)\", fontfamily = \"Liberation Serif\", y = 1.02)\n",
    "ax23.set_title(\"Suburb-Pasture (SP)\", fontfamily = \"Liberation Serif\", y = 1.02)\n",
    "fig.get_layout_engine().set(h_pad = 0.05, hspace = 0.1)\n",
    "\n",
    "ax11.contourf(np.linspace(0, 400, 400), np.linspace(0, 800, 800), afile_pasture_end[\"VegClass\"][1,:,:].where(afile_pasture_end[\"PatchArea\"][1,:,:]== 1), colors = \"gold\")\n",
    "ax11.contourf(np.linspace(0, 400, 400), np.linspace(0, 800, 800), afile_pasture_end[\"VegClass\"][0,:,:].where(afile_pasture_end[\"PatchArea\"][0,:,:]== 1), colors = \"navy\")\n",
    "\n",
    "ax11.annotate(\"OCEAN\", (201, 100), color = \"white\", fontfamily = \"sans\", fontweight = \"bold\", fontsize = 10, horizontalalignment = \"center\", verticalalignment = \"center\")\n",
    "ax11.annotate(\"PASTURE\", (201, 500), color = \"black\", fontfamily = \"sans\", fontweight = \"bold\", fontsize = 10, horizontalalignment = \"center\", verticalalignment = \"center\")\n",
    "# ax11.set_title(\"Uniform Pasture\", fontsize = 20, fontweight = \"demibold\", fontfamily = \"Liberation Serif\")\n",
    "\n",
    "ax12.contourf(np.linspace(0, 400, 400), np.linspace(0, 800, 800), afile_coniforest_end[\"VegClass\"][1,:,:].where(afile_coniforest_end[\"PatchArea\"][1,:,:]== 1), colors = \"darkgreen\")\n",
    "ax12.contourf(np.linspace(0, 400, 400), np.linspace(0, 800, 800), afile_coniforest_end[\"VegClass\"][0,:,:].where(afile_coniforest_end[\"PatchArea\"][0,:,:]== 1), colors = \"navy\")\n",
    "# sfcds[\"PatchArea_AREA\"][1,:,:].plot()\n",
    "ax12.annotate(\"OCEAN\", (201, 100), color = \"white\", fontfamily = \"sans\", fontweight = \"bold\", fontsize = 10, horizontalalignment = \"center\", verticalalignment = \"center\")\n",
    "ax12.annotate(\"CONIFEROUS \\n FOREST\", (201, 500), color = \"white\", fontfamily = \"sans\", fontweight = \"bold\", fontsize = 8, horizontalalignment = \"center\", verticalalignment = \"center\")\n",
    "# ax12.set_title(\"Uniform Coniferous Forest\", fontsize = 20, fontweight = \"demibold\", fontfamily = \"Liberation Serif\")\n",
    "\n",
    "ax13.contourf(np.linspace(0, 400, 400), np.linspace(0, 800, 800), afile_suburb_end[\"VegClass\"][1,:,:].where(afile_suburb_end[\"PatchArea\"][1,:,:]== 1), colors = \"maroon\")\n",
    "ax13.contourf(np.linspace(0, 400, 400), np.linspace(0, 800, 800), afile_suburb_end[\"VegClass\"][0,:,:].where(afile_suburb_end[\"PatchArea\"][0,:,:]== 1), colors = \"navy\")\n",
    "# sfcds[\"PatchArea_AREA\"][1,:,:].plot()\n",
    "ax13.annotate(\"OCEAN\", (201, 100), color = \"white\", fontfamily = \"sans\", fontweight = \"bold\", fontsize = 10, horizontalalignment = \"center\", verticalalignment = \"center\")\n",
    "ax13.annotate(\"SUBURB\", (201, 500), color = \"white\", fontfamily = \"sans\", fontweight = \"bold\", fontsize = 10, horizontalalignment = \"center\", verticalalignment = \"center\")\n",
    "# ax13.set_title(\"Uniform Suburb\", fontsize = 20, fontweight = \"demibold\", fontfamily = \"Liberation Serif\")\n",
    "\n",
    "ax21.contourf(np.linspace(0, 400, 400), np.linspace(0, 800, 800), afile_pastureconiforest_end[\"VegClass\"][1,:,:].where(afile_pastureconiforest_end[\"PatchArea\"][1,:,:]==1), colors = [\"darkgreen\", \"gold\"])\n",
    "ax21.contourf(np.linspace(0, 400, 400), np.linspace(0, 800, 800), afile_pastureconiforest_end[\"VegClass\"][0,:,:].where(afile_pastureconiforest_end[\"PatchArea\"][0,:,:]==1), colors = \"navy\")\n",
    "ax21.annotate(\"OCEAN\", (201, 100), color = \"white\", fontfamily = \"sans\", fontweight = \"bold\", fontsize = 10, horizontalalignment = \"center\", verticalalignment = \"center\")\n",
    "ax21.annotate(\"PAS-\\nTURE\", (51, 500), color = \"black\", fontfamily = \"sans\", fontweight = \"bold\", fontsize = 5, horizontalalignment = \"center\", verticalalignment = \"center\")\n",
    "ax21.annotate(\"PAS-\\nTURE\", (351, 500), color = \"black\", fontfamily = \"sans\", fontweight = \"bold\", fontsize = 5, horizontalalignment = \"center\", verticalalignment = \"center\")\n",
    "ax21.annotate(\"CONIFEROUS \\n FOREST\", (201, 500), color = \"white\", fontfamily = \"sans\", fontweight = \"bold\", fontsize = 4, horizontalalignment = \"center\", verticalalignment = \"center\")\n",
    "# ax21.set_title(\"Pasture-Forest\", fontsize = 20, fontweight = \"demibold\", fontfamily = \"Liberation Serif\")\n",
    "\n",
    "ax22.contourf(np.linspace(0, 400, 400), np.linspace(0, 800, 800), afile_suburbconiforest_end[\"VegClass\"][1,:,:].where(afile_suburbconiforest_end[\"PatchArea\"][1,:,:]==1), colors = [\"darkgreen\", \"maroon\"])\n",
    "ax22.contourf(np.linspace(0, 400, 400), np.linspace(0, 800, 800), afile_suburbconiforest_end[\"VegClass\"][0,:,:].where(afile_suburbconiforest_end[\"PatchArea\"][0,:,:]==1), colors = \"navy\")\n",
    "ax22.annotate(\"OCEAN\", (201, 100), color = \"white\", fontfamily = \"sans\", fontweight = \"bold\", fontsize = 10, horizontalalignment = \"center\", verticalalignment = \"center\")\n",
    "ax22.annotate(\"SUB-\\nURB\", (51, 500), color = \"white\", fontfamily = \"sans\", fontweight = \"bold\", fontsize = 5, horizontalalignment = \"center\", verticalalignment = \"center\")\n",
    "ax22.annotate(\"SUB-\\nURB\", (351, 500), color = \"white\", fontfamily = \"sans\", fontweight = \"bold\", fontsize = 5, horizontalalignment = \"center\", verticalalignment = \"center\")\n",
    "ax22.annotate(\"CONIFEROUS \\n FOREST\", (201, 500), color = \"white\", fontfamily = \"sans\", fontweight = \"bold\", fontsize = 4, horizontalalignment = \"center\", verticalalignment = \"center\")\n",
    "# ax22.set_title(\"Suburb-Forest\", fontsize = 20, fontweight = \"demibold\", fontfamily = \"Liberation Serif\")\n",
    "\n",
    "ax23.contourf(np.linspace(0, 400, 400), np.linspace(0, 800, 800), afile_suburbpasture_end[\"VegClass\"][1,:,:].where(afile_suburbpasture_end[\"PatchArea\"][1,:,:]==1), colors = [\"gold\", \"maroon\"])\n",
    "ax23.contourf(np.linspace(0, 400, 400), np.linspace(0, 800, 800), afile_suburbpasture_end[\"VegClass\"][0,:,:].where(afile_suburbpasture_end[\"PatchArea\"][0,:,:]==1), colors = \"navy\")\n",
    "ax23.annotate(\"OCEAN\", (201, 100), color = \"white\", fontfamily = \"sans\", fontweight = \"bold\", fontsize = 10, horizontalalignment = \"center\", verticalalignment = \"center\")\n",
    "ax23.annotate(\"SUB-\\nURB\", (51, 500), color = \"white\", fontfamily = \"sans\", fontweight = \"bold\", fontsize = 5, horizontalalignment = \"center\", verticalalignment = \"center\")\n",
    "ax23.annotate(\"SUB-\\nURB\", (351, 500), color = \"white\", fontfamily = \"sans\", fontweight = \"bold\", fontsize = 5, horizontalalignment = \"center\", verticalalignment = \"center\")\n",
    "ax23.annotate(\"PASTURE\", (201, 500), color = \"black\", fontfamily = \"sans\", fontweight = \"bold\", fontsize = 5, horizontalalignment = \"center\", verticalalignment = \"center\")\n",
    "# ax23.set_title(\"Suburb-Pasture\", fontsize = 15, fontweight = \"demibold\", fontfamily = \"Liberation Serif\")\n",
    "\n",
    "fig.suptitle(\"Simulation Domains\", fontweight = \"demibold\", fontfamily = \"Liberation Serif\")\n",
    "fig.savefig(\"/moonbow/ascheb/idealized/PaperFigs/domaincomp.png\")"
   ]
  },
  {
   "cell_type": "code",
   "execution_count": null,
   "id": "aec72dfc-3c72-40bf-ba44-6e733946f271",
   "metadata": {},
   "outputs": [],
   "source": [
    "print(afile_pasture.data_vars)"
   ]
  },
  {
   "cell_type": "code",
   "execution_count": null,
   "id": "d0628e5f-3036-4e1d-9c64-b5e967057723",
   "metadata": {},
   "outputs": [],
   "source": [
    "# import pandas as pd\n",
    "# vegpropsdf = pd.DataFrame(columns = [\"VegHeight\", \"RoughnessLength\", \"LAI\", \"VegFrac\", \"VegAlbedo\", \"TotalAlbedo\"])\n",
    "# vegpropsdf[\"TotalAlbedo\"] = np.array([afile_pasture[\"SurfaceAlbedo\"].where(afile_pasture[\"Patch\"][1,:,:]==1).mean(), afile_suburb[\"SurfaceAlbedo\"].where(afile_pasture[\"Patch\"][1,:,:]==1).mean(), afile_coniforest[\"SurfaceAlbedo\"].where(afile_pasture[\"Patch\"][1,:,:]==1).mean()])\n",
    "# vegpropsdf[\"VegHeight\"] = np.array([afile_pasture[\"VegHeight\"][1,:,:].where(afile_pasture[\"Patch\"][1,:,:]==1).mean(), afile_suburb[\"VegHeight\"][1,:,:].where(afile_pasture[\"Patch\"][1,:,:]==1).mean(), afile_coniforest[\"VegHeight\"][1,:,:].where(afile_pasture[\"Patch\"][1,:,:]==1).mean()])\n",
    "# vegpropsdf[\"RoughnessLength\"] = np.array([afile_pasture[\"SurfaceRoughness\"][1,:,:].where(afile_pasture[\"Patch\"][1,:,:]==1).mean(), afile_suburb[\"SurfaceRoughness\"][1,:,:].where(afile_pasture[\"Patch\"][1,:,:]==1).mean(), afile_coniforest[\"SurfaceRoughness\"][1,:,:].where(afile_pasture[\"Patch\"][1,:,:]==1).mean()])\n",
    "# vegpropsdf[\"LAI\"] = np.array([afile_pasture[\"LeafArea\"][1,:,:].where(afile_pasture[\"Patch\"][1,:,:]==1).mean(), afile_suburb[\"LeafArea\"][1,:,:].where(afile_pasture[\"Patch\"][1,:,:]==1).mean(), afile_coniforest[\"LeafArea\"][1,:,:].where(afile_pasture[\"Patch\"][1,:,:]==1).mean()])\n",
    "# vegpropsdf[\"VegFrac\"] = np.array([afile_pasture[\"VegFraction\"][1,:,:].where(afile_pasture[\"Patch\"][1,:,:]==1).mean(), afile_suburb[\"VegFraction\"][1,:,:].where(afile_pasture[\"Patch\"][1,:,:]==1).mean(), afile_coniforest[\"VegFraction\"][1,:,:].where(afile_pasture[\"Patch\"][1,:,:]==1).mean()])\n",
    "# vegpropsdf[\"VegAlbedo\"] = np.array([afile_pasture[\"VegAlbedo\"][1,:,:].where(afile_pasture[\"Patch\"][1,:,:]==1).mean(), afile_suburb[\"VegAlbedo\"][1,:,:].where(afile_pasture[\"Patch\"][1,:,:]==1).mean(), afile_coniforest[\"VegAlbedo\"][1,:,:].where(afile_pasture[\"Patch\"][1,:,:]==1).mean()])\n",
    "\n",
    "#print(vegpropsdf)\n",
    "#vegpropsdf.to_csv(\"vegprops.csv\")"
   ]
  },
  {
   "cell_type": "code",
   "execution_count": null,
   "id": "f4facb10-4811-4c3d-8756-8f8078881fcc",
   "metadata": {},
   "outputs": [],
   "source": [
    "print(afile_pasture[\"z\"])"
   ]
  },
  {
   "cell_type": "markdown",
   "id": "08f2db53-36a2-4ebd-adb2-ecd5b5fa4e6b",
   "metadata": {},
   "source": [
    "## Domain-Total Precip Comparison"
   ]
  },
  {
   "cell_type": "code",
   "execution_count": null,
   "id": "05d6940f-d8f7-4e31-8d83-012d2cfa022f",
   "metadata": {},
   "outputs": [],
   "source": [
    "rams_areafactor = 2.5*10**5\n",
    "landarea = 500*400*rams_areafactor\n",
    "upprecip = afile_pasture_end[\"RainPrecipTotal\"].sum()*rams_areafactor/landarea #all precip falls over land in these simulations\n",
    "print(\"UP Simulation Mean Precipitation\", np.round(upprecip.values, 3))\n",
    "usprecip = afile_suburb_end[\"RainPrecipTotal\"].sum()*rams_areafactor/landarea #all precip falls over land in these simulations\n",
    "print(\"US Simulation Mean Precipitation\", np.round(usprecip.values, 3))\n",
    "ucfprecip = afile_coniforest_end[\"RainPrecipTotal\"].sum()*rams_areafactor/landarea #all precip falls over land in these simulations\n",
    "print(\"UCF Simulation Mean Precipitation\", np.round(ucfprecip.values, 3))\n",
    "pcfprecip = afile_pastureconiforest_end[\"RainPrecipTotal\"].sum()*rams_areafactor/landarea #all precip falls over land in these simulations\n",
    "print(\"PCF Simulation Mean Precipitation\", np.round(pcfprecip.values, 3))\n",
    "scfprecip = afile_suburbconiforest_end[\"RainPrecipTotal\"].sum()*rams_areafactor/landarea #all precip falls over land in these simulations\n",
    "print(\"SCF Simulation Mean Precipitation\", np.round(scfprecip.values, 3))\n",
    "spprecip = afile_suburbpasture_end[\"RainPrecipTotal\"].sum()*rams_areafactor/landarea #all precip falls over land in these simulations\n",
    "print(\"SP Simulation Mean Precipitation\", np.round(spprecip.values, 3))"
   ]
  },
  {
   "cell_type": "markdown",
   "id": "c2292f2c-f471-40e5-be02-c99120217df6",
   "metadata": {},
   "source": [
    "## Comparison of Precip That Falls over Different Land Surfaces"
   ]
  },
  {
   "cell_type": "code",
   "execution_count": null,
   "id": "b12865fd-4ccb-4b9b-96d5-64adbcad08f4",
   "metadata": {},
   "outputs": [],
   "source": [
    "pcf_forestprecip = afile_pastureconiforest_end[\"RainPrecipTotal\"].where(afile_pastureconiforest_end[\"VegClass\"].isel(patch = 1) == 4).where(afile_pastureconiforest_end[\"PatchArea\"].isel(patch = 1) == 1).mean().values\n",
    "print(\"PCF Simulation Forest Precipitation\", np.round(pcf_forestprecip, 3))\n",
    "pcf_pastureprecip = afile_pastureconiforest_end[\"RainPrecipTotal\"].where(afile_pastureconiforest_end[\"VegClass\"].isel(patch = 1) == 15).where(afile_pastureconiforest_end[\"PatchArea\"].isel(patch = 1) == 1).mean().values\n",
    "print(\"PCF Simulation Pasture Precipitation\", np.round(pcf_pastureprecip, 3))\n",
    "scf_forestprecip = afile_suburbconiforest_end[\"RainPrecipTotal\"].where(afile_suburbconiforest_end[\"VegClass\"].isel(patch = 1) == 4).where(afile_suburbconiforest_end[\"PatchArea\"].isel(patch = 1) == 1).mean().values\n",
    "print(\"SCF Simulation Forest Precipitation\", np.round(scf_forestprecip, 3))\n",
    "scf_suburbprecip = afile_suburbconiforest_end[\"RainPrecipTotal\"].where(afile_suburbconiforest_end[\"VegClass\"].isel(patch = 1) == 19).where(afile_suburbconiforest_end[\"PatchArea\"].isel(patch = 1) == 1).mean().values\n",
    "print(\"SCF Simulation Suburb Precipitation\", np.round(scf_suburbprecip, 3))\n",
    "sp_pastureprecip = afile_suburbpasture_end[\"RainPrecipTotal\"].where(afile_suburbpasture_end[\"VegClass\"].isel(patch = 1) == 15).where(afile_suburbpasture_end[\"PatchArea\"].isel(patch = 1) == 1).mean().values\n",
    "print(\"SP Simulation Pasture Precipitation\", np.round(sp_pastureprecip, 3))\n",
    "sp_suburbprecip = afile_suburbpasture_end[\"RainPrecipTotal\"].where(afile_suburbpasture_end[\"VegClass\"].isel(patch = 1) == 19).where(afile_suburbpasture_end[\"PatchArea\"].isel(patch = 1) == 1).mean().values\n",
    "print(\"SP Simulation Suburb Precipitation\", np.round(sp_suburbprecip, 3))"
   ]
  },
  {
   "cell_type": "markdown",
   "id": "6aa5120a-2fd5-4434-9262-48d04deb9991",
   "metadata": {},
   "source": [
    "## Six-Panel Plan View of Total Precipitation"
   ]
  },
  {
   "cell_type": "code",
   "execution_count": null,
   "id": "0ed43f29-5514-4f39-9ef5-7bf447e9bdc8",
   "metadata": {},
   "outputs": [],
   "source": [
    "t = datetime.strptime(ftime, \"%Y-%m-%d-%H%M%S\")\n",
    "folderprepath = \"/moonbow/ascheb/idealized/\"\n",
    "fig, ((ax11, ax12, ax13), (ax21, ax22, ax23)) = plt.subplots(2, 3, figsize = (4, 5), dpi = 200, layout = \"compressed\")\n",
    "axlabels = [\"(a)\", \"(b)\", \"(c)\", \"(d)\", \"(e)\", \"(f)\"]\n",
    "for i, ax in enumerate(fig.get_axes()):\n",
    "    ax.set_aspect(1)\n",
    "    ax.set_yticks([200, 300, 450, 600, 800], labels = [\"-50 \", \"0  \", \"75 \", 150, 250])\n",
    "    ax.set_xticks([0, 100, 200, 300, 400], labels = [-100, -50, 0, 50, 100])\n",
    "    left, width = 0, 0.16\n",
    "    bottom, height = 0.92, 0.08\n",
    "    right = left + width\n",
    "    top = bottom + height\n",
    "    p = plt.Rectangle((left, bottom), width, height, fill=True, zorder = 3, edgecolor = \"black\", linewidth = 0.2, facecolor = \"whitesmoke\")\n",
    "    p.set_transform(ax.transAxes)\n",
    "    p.set_clip_on(False)\n",
    "    ax.add_patch(p)\n",
    "    ax.text(left+0.5*width, bottom+0.5*height, axlabels[i], fontsize = 6.5, transform = ax.transAxes, horizontalalignment = \"center\", verticalalignment = \"center\")\n",
    "for ax in (ax11, ax21):\n",
    "    ax.set_ylabel(\"Distance from Shore (km)\")\n",
    "    ax.tick_params(axis = \"x\", bottom = False, labelbottom = False, left = True, labelleft = True)\n",
    "ax22.set_xlabel(\"Distance from Center (km)\")\n",
    "for ax in (ax12, ax13, ax23):\n",
    "    ax.tick_params(axis = \"both\", bottom = False, left = False, labelbottom = False, labeltop = False, labelleft = False)\n",
    "ax22.tick_params(axis = \"y\", left = False, labelleft = False, bottom = True, labelbottom = True)\n",
    "# for ax in (ax21, ax22, ax23):\n",
    "#     forestbounds = ax.plot([100, 100], [300, 800], color = \"black\", linestyle = \"--\", label = \"Stripe Boundaries\", linewidth = 0.5)\n",
    "#     ax.plot([300, 300], [300, 800], color = \"black\", linestyle = \"--\", linewidth = 0.5)\n",
    "# for ax in fig.get_axes():\n",
    "#     shoreline = ax.axhline(301, color = \"white\", linestyle = \"--\", label = \"Shoreline\", linewidth = 0.5)\n",
    "#     ax.legend(loc  = \"lower left\", framealpha = 0, fontsize = 6.5, labelcolor = \"white\", bbox_to_anchor = (0, 0), borderaxespad = 0, borderpad = 0.1)\n",
    "ax11.set_title(\"Uniform Pasture (UP)\", fontfamily = \"Liberation Serif\", y = 1.02)\n",
    "ax12.set_title(\"Uniform Forest (UF)\", fontfamily = \"Liberation Serif\", y = 1.02)\n",
    "ax13.set_title(\"Uniform Suburb (US)\", fontfamily = \"Liberation Serif\", y = 1.02)\n",
    "ax21.set_title(\"Pasture-Forest (PF)\", fontfamily = \"Liberation Serif\", y = 1.02)\n",
    "ax22.set_title(\"Suburb-Forest (SF)\", fontfamily = \"Liberation Serif\", y = 1.02)\n",
    "ax23.set_title(\"Suburb-Pasture (SP)\", fontfamily = \"Liberation Serif\", y = 1.02)\n",
    "fig.get_layout_engine().set(h_pad = 0.05, hspace = 0.1)\n",
    "        \n",
    "for ax in (ax21, ax22, ax23):\n",
    "    forestbounds = ax.plot([100, 100], [300, 800], color = \"black\", linestyle = \"--\", label = \"Stripe Boundaries\", linewidth = 0.5)\n",
    "    ax.plot([300, 300], [300, 800], color = \"black\", linestyle = \"--\", linewidth = 0.5)\n",
    "for ax in fig.get_axes():\n",
    "    shoreline = ax.axhline(301, color = \"black\", linestyle = \"-.\", label = \"Shoreline\", linewidth = 0.5)\n",
    "    ax.legend(loc  = \"lower left\", framealpha = 0, fontsize = 6.5, labelcolor = \"black\", bbox_to_anchor = (0, 0), borderaxespad = 0, borderpad = 0.1)\n",
    "\n",
    "fig.suptitle(f\"Total Rainfall at {str((t - timedelta(hours = 5)).hour).zfill(2)}{str((t - timedelta(hours = 5)).minute).zfill(2)} LT\", fontfamily = \"Liberation Serif\")\n",
    "rainbounds = [0, 0.1, 0.3, 0.5, 1.5, 2.5, 5.5, 7.5, 11.75, 15, 20, 25, 37.5, 50, 70]\n",
    "rainnorm = BoundaryNorm(boundaries = rainbounds, ncolors = 256, extend = \"max\")\n",
    "# rainnorm = BoundaryNorm(boundaries = [0.1, 2.5, 5, 7.5, 10, 12.5, 15, 17.5, 20, 22.5, 25, 27.5, 30], ncolors = 256, extend = \"max\")\n",
    "rainmp = ax11.pcolormesh(np.linspace(0, 400, 401), np.linspace(200, 800, 601), (afile_pasture_end[\"RainPrecipTotal\"].where(afile_pasture_end[\"RainPrecipTotal\"]>0.01)).isel(y = slice(200,800)), cmap = \"jet\", norm = rainnorm)\n",
    "ax12.pcolormesh(np.linspace(0, 400, 401), np.linspace(200, 800, 601), (afile_coniforest_end[\"RainPrecipTotal\"].where(afile_coniforest_end[\"RainPrecipTotal\"]>0.01)).isel(y = slice(200,800)), cmap = \"jet\", norm = rainnorm)\n",
    "ax13.pcolormesh(np.linspace(0, 400, 401), np.linspace(200, 800, 601), (afile_suburb_end[\"RainPrecipTotal\"].where(afile_suburb_end[\"RainPrecipTotal\"]>0.01)).isel(y = slice(200,800)), cmap = \"jet\", norm = rainnorm)\n",
    "ax21.pcolormesh(np.linspace(0, 400, 401), np.linspace(200, 800, 601), (afile_pastureconiforest_end[\"RainPrecipTotal\"].where(afile_pastureconiforest_end[\"RainPrecipTotal\"]>0.01)).isel(y = slice(200,800)), cmap = \"jet\", norm = rainnorm)\n",
    "ax22.pcolormesh(np.linspace(0, 400, 401), np.linspace(200, 800, 601), (afile_suburbconiforest_end[\"RainPrecipTotal\"].where(afile_suburbconiforest_end[\"RainPrecipTotal\"]>0.01)).isel(y = slice(200,800)), cmap = \"jet\", norm = rainnorm)\n",
    "ax23.pcolormesh(np.linspace(0, 400, 401), np.linspace(200, 800, 601), (afile_suburbpasture_end[\"RainPrecipTotal\"].where(afile_suburbpasture_end[\"RainPrecipTotal\"]>0.01)).isel(y = slice(200,800)), cmap = \"jet\", norm = rainnorm)\n",
    "cbar = fig.colorbar(rainmp, ax = fig.get_axes(), orientation = \"horizontal\", fraction = 0.05, extend = \"max\"); cbar.set_label(\"Total Rainfall (mm)\", fontfamily = \"Liberation Serif\")\n",
    "fig.savefig(f\"{folderprepath}PaperFigs/raintotal_{str(t.hour).zfill(2)}{str(t.minute).zfill(2)}z.png\")\n",
    "plt.close()\n",
    "del ax11; del ax12; del ax13\n",
    "del ax21; del ax22; del ax23\n",
    "del fig; del cbar"
   ]
  },
  {
   "cell_type": "markdown",
   "id": "92952d38-6d0f-4037-a86c-4d9a30cb1864",
   "metadata": {},
   "source": [
    "## Close Files from the End of the Simulation"
   ]
  },
  {
   "cell_type": "code",
   "execution_count": null,
   "id": "1fec95f6-4600-451b-9a4e-3f3d63636218",
   "metadata": {},
   "outputs": [],
   "source": [
    "afile_pasture_end.close(); del afile_pasture_end\n",
    "afile_coniforest_end.close(); del afile_coniforest_end\n",
    "afile_suburb_end.close(); del afile_suburb_end\n",
    "afile_pastureconiforest_end.close(); del afile_pastureconiforest_end\n",
    "afile_suburbconiforest_end.close(); del afile_suburbconiforest_end\n",
    "afile_suburbpasture_end.close(); del afile_suburbpasture_end"
   ]
  },
  {
   "cell_type": "markdown",
   "id": "9d6bd4b0-33b3-427d-8ce6-24631f384f3c",
   "metadata": {},
   "source": [
    "## Load Files from 1700z (1200 LT) for Rest of Analysis"
   ]
  },
  {
   "cell_type": "code",
   "execution_count": null,
   "id": "54fb3301-a8cf-436f-be45-9bbfa202c66c",
   "metadata": {},
   "outputs": [],
   "source": [
    "noontime = \"2022-06-17-170000\"\n",
    "afile_pasture_noon = xr.open_dataset(f\"/moonbow/ascheb/idealized/unipasture-wind/ppfiles_paper/mvars-cart-{noontime}-g1.nc\")\n",
    "afile_suburb_noon = xr.open_dataset(f\"/moonbow/ascheb/idealized/unisuburb-wind/ppfiles_paper/mvars-cart-{noontime}-g1.nc\")\n",
    "afile_coniforest_noon = xr.open_dataset(f\"/moonbow/ascheb/idealized/coniforest-wind/ppfiles_paper/mvars-cart-{noontime}-g1.nc\")\n",
    "afile_pastureconiforest_noon = xr.open_dataset(f\"/moonbow/ascheb/idealized/pastureconiforest-wind/ppfiles_paper/mvars-cart-{noontime}-g1.nc\")\n",
    "afile_suburbconiforest_noon = xr.open_dataset(f\"/moonbow/ascheb/idealized/suburbconiforest-wind/ppfiles_paper/mvars-cart-{noontime}-g1.nc\")\n",
    "afile_suburbpasture_noon = xr.open_dataset(f\"/moonbow/ascheb/idealized/suburbpasture-wind/ppfiles_paper/mvars-cart-{noontime}-g1.nc\")"
   ]
  },
  {
   "cell_type": "code",
   "execution_count": null,
   "id": "09fe1b7f-3b9c-4ab5-89ae-5aaf53f7fe60",
   "metadata": {},
   "outputs": [],
   "source": [
    "# print(afile_pasture"
   ]
  },
  {
   "cell_type": "code",
   "execution_count": null,
   "id": "82290e55-fef9-47d3-92fd-02dcd7bf3d13",
   "metadata": {},
   "outputs": [],
   "source": [
    "print(afile_pastureconiforest_noon[\"VertIntLiq\"])\n",
    "print(afile_suburbpasture_noon[\"VertIntIce\"])\n",
    "print(afile_suburbpasture_noon[\"VertIntCond\"])"
   ]
  },
  {
   "cell_type": "code",
   "execution_count": null,
   "id": "6614c6d4-8b79-46f1-93f1-298ac992d328",
   "metadata": {},
   "outputs": [],
   "source": [
    "# print([var for var in afile_pastureconiforest_noon.variables])"
   ]
  },
  {
   "cell_type": "markdown",
   "id": "6149e177-7aeb-4d45-afcc-818955435380",
   "metadata": {},
   "source": [
    "## Plot Skew-T Comparison Between Pasture and Forest in PF Simulation"
   ]
  },
  {
   "cell_type": "code",
   "execution_count": null,
   "id": "ed1391fd-e7cc-440a-b480-ef0f4a5a664f",
   "metadata": {},
   "outputs": [],
   "source": [
    "forestthermo = afile_pastureconiforest_noon[[\"Pressure\", \"Temperature\", \"Dewpoint\", \"VaporMix\"]].isel(y = slice(500, 800), x = slice(150, 250)).mean(dim = (\"y\", \"x\"))\n",
    "pasturethermo = (0.5*afile_pastureconiforest_noon[[\"Pressure\", \"Temperature\", \"Dewpoint\", \"VaporMix\"]].isel(y = slice(500, 800), x = slice(0, 50)).mean(dim = (\"y\", \"x\"))+0.5*afile_pastureconiforest_noon[[\"Pressure\", \"Temperature\", \"Dewpoint\", \"VaporMix\"]].isel(y = slice(500, 800), x = slice(350, 400)).mean(dim = (\"y\", \"x\")))\n",
    "\n",
    "import metpy.calc as mcalc\n",
    "from metpy.plots import SkewT\n",
    "from metpy.units import units\n",
    "\n",
    "tfig = plt.figure(figsize = (5, 4), dpi = 200)\n",
    "testskew = SkewT(tfig, rotation = 45)\n",
    "testskew.ax.set_ylim(1050, 600)\n",
    "testskew.ax.set_xlim(10, 40)\n",
    "# testskew.ax.axhline(forestthermo[\"Pressure\"].sel(z = 200, method = \"nearest\"), color = \"black\")\n",
    "fortemp, = testskew.plot(forestthermo[\"Pressure\"]*units.hPa, forestthermo[\"Temperature\"]*units.K-273.15*units.K, color = \"red\", label = \"Temperature over Forest\", linewidth = 1)\n",
    "pastemp, = testskew.plot(pasturethermo[\"Pressure\"]*units.hPa, pasturethermo[\"Temperature\"]*units.K-273.15*units.K, color = \"maroon\", label = \"Temperature over Pasture\", linewidth = 1)\n",
    "fordew, = testskew.plot(forestthermo[\"Pressure\"]*units.hPa, forestthermo[\"Dewpoint\"]*units.K-273.15*units.K, color = \"dodgerblue\", label = \"Dewpoint over Forest\", linewidth = 1)\n",
    "pasdew, = testskew.plot(pasturethermo[\"Pressure\"]*units.hPa, pasturethermo[\"Dewpoint\"]*units.K-273.15*units.K, color = \"midnightblue\", label = \"Dewpoint over Pasture\", linewidth = 1)\n",
    "dryads = testskew.plot_dry_adiabats(t0 = np.arange(-40, 200, 10)*units.degC, colors = \"tomato\", linewidths = 0.75, label = \"Dry Adiabats\", alpha = 0.5)\n",
    "moistads = testskew.plot_moist_adiabats(t0 = np.arange(-40, 45, 5)*units.degC, colors = \"dodgerblue\", linewidths = 0.75, label = \"Moist Adiabats\", alpha = 0.5)\n",
    "# testskew.plot_mixing_lines(pressure = np.arange(1025, 450, -25)*units.hPa, colors = \"limegreen\", linewidths = 0.75, label = \")\n",
    "proflegend = testskew.ax.legend(framealpha = 0, fontsize = 10, loc = \"upper right\", handles = [fortemp, pastemp, fordew, pasdew], bbox_to_anchor = (1.02, 1.03))\n",
    "testskew.ax.add_artist(proflegend)\n",
    "backlegend = testskew.ax.legend(framealpha = 0, fontsize = 10, loc = \"lower left\", handles = [dryads, moistads], bbox_to_anchor=(0.0, -0.01))\n",
    "testskew.ax.tick_params(labelsize = 9)\n",
    "testskew.ax.add_artist(backlegend)\n",
    "testskew.ax.set_ylabel(\"Pressure (hPa)\", fontsize = 12)\n",
    "testskew.ax.set_xlabel(\"Temperature (C)\", fontsize = 12)\n",
    "testskew.ax.set_title(\"Forest and Pasture Thermodynamic Profiles at 1200 LT\", fontsize = 12)\n",
    "plt.savefig(\"/moonbow/ascheb/idealized/PaperFigs/idealized_skewtcomp_1700z.png\")"
   ]
  },
  {
   "cell_type": "markdown",
   "id": "c8690453-f3c7-471f-bd18-a0156b30cfa4",
   "metadata": {},
   "source": [
    "## Plot Moist Static Energy profiles for uniform simulations"
   ]
  },
  {
   "cell_type": "code",
   "execution_count": null,
   "id": "dc07251c-b2d0-43d1-a405-ce69a94fad10",
   "metadata": {},
   "outputs": [],
   "source": [
    "fig, ax = plt.subplots(1, 1, figsize = (3,3), dpi = 200, layout = \"compressed\")\n",
    "ax.set_title(\"Moist Static Energy at 1200 LT\", fontsize = 10)\n",
    "pasturemse = calc_mse(afile_pasture_noon.isel(y = slice(500,800)).sel(z=slice(0,3000)).mean(dim = (\"x\", \"y\")))\n",
    "forestmse = calc_mse(afile_coniforest_noon.isel(y = slice(500,800)).sel(z=slice(0,3000)).mean(dim = (\"x\", \"y\")))\n",
    "suburbmse = calc_mse(afile_suburb_noon.isel(y = slice(500,800)).sel(z=slice(0,3000)).mean(dim = (\"x\", \"y\")))\n",
    "# ax.plot(afile_pasture_noon[\"Temperature\"].isel(y = slice(500, 800)).sel(z = slice(0, 3000)).mean(dim = (\"x\", \"y\")) +\n",
    "#           2.5*10**6*afile_pasture_noon[\"VaporMix\"].isel(y = slice(500, 800)).sel(z = slice(0, 3000)).mean(dim = (\"x\", \"y\"))*10**(-3)*(1/1004) +\n",
    "#           9.81/1004 * afile_pasture_noon[\"z\"].sel(z = slice(0, 3000)), \n",
    "#           afile_pasture_noon[\"z\"].sel(z = slice(0, 3000)), color = \"red\", linewidth = 1, zorder = 1, linestyle = \"--\", label = \"Uniform Pasture (UP)\")\n",
    "# ax.plot(afile_coniforest_noon[\"Temperature\"].isel(y = slice(500, 800)).sel(z = slice(0, 3000)).mean(dim = (\"x\", \"y\")) +\n",
    "#           2.5*10**6*afile_coniforest_noon[\"VaporMix\"].isel(y = slice(500, 800)).sel(z = slice(0, 3000)).mean(dim = (\"x\", \"y\"))*10**(-3)*(1/1004) +\n",
    "#           9.81/1004 * afile_coniforest_noon[\"z\"].sel(z = slice(0, 3000)), \n",
    "#           afile_coniforest_noon[\"z\"].sel(z = slice(0, 3000)), color = \"darkgreen\", linewidth = 1, zorder = 2, label = \"Uniform Forest (UF)\")\n",
    "# ax.plot(afile_suburb_noon[\"Temperature\"].isel(y = slice(500, 800)).sel(z = slice(0, 3000)).mean(dim = (\"x\", \"y\")) +\n",
    "#           2.5*10**6*afile_suburb_noon[\"VaporMix\"].isel(y = slice(500, 800)).sel(z = slice(0, 3000)).mean(dim = (\"x\", \"y\"))*10**(-3)*(1/1004) +\n",
    "#           9.81/1004 * afile_suburb_noon[\"z\"].sel(z = slice(0, 3000)), \n",
    "#           afile_suburb_noon[\"z\"].sel(z = slice(0, 3000)), color = \"dodgerblue\", linewidth = 1, zorder = 0, label = \"Uniform Suburb (US)\")\n",
    "ax.plot(pasturemse, afile_pasture_noon[\"z\"].sel(z = slice(0, 3000)), color = \"red\", linewidth = 1, zorder = 0, label = \"Uniform Pasture (UP)\")\n",
    "ax.plot(forestmse, afile_pasture_noon[\"z\"].sel(z = slice(0,3000)), color = \"dodgerblue\", linewidth = 1, zorder = 2, label = \"Uniform Forest (UF)\")\n",
    "ax.plot(suburbmse, afile_suburb_noon[\"z\"].sel(z = slice(0,3000)), color = \"black\", linewidth = 1, zorder = 1, linestyle = \"--\", label = \"Uniform Suburb (US)\") \n",
    "ax.legend()\n",
    "ax.set_ylabel(\"Altitude (m)\", fontsize = 10)\n",
    "ax.set_xlabel(\"Normalized Moist Static Energy (K)\", fontsize = 10)\n",
    "fig.savefig(\"/moonbow/ascheb/idealized/PaperFigs/MSE_unif.png\")"
   ]
  },
  {
   "cell_type": "markdown",
   "id": "5b63a1aa-9e69-43ef-98de-472b0bd5f2dd",
   "metadata": {},
   "source": [
    "### MSE Plots for Striped Simulations"
   ]
  },
  {
   "cell_type": "code",
   "execution_count": null,
   "id": "eb2f6304-ea0e-4407-b084-b28f2cfba95b",
   "metadata": {},
   "outputs": [],
   "source": [
    "forestthermo = afile_pastureconiforest_noon[[\"Pressure\", \"Temperature\", \"Dewpoint\", \"VaporMix\"]].isel(y = slice(500, 800), x = slice(150, 250)).mean(dim = (\"y\", \"x\"))\n",
    "pasturethermo = (0.5*afile_pastureconiforest_noon[[\"Pressure\", \"Temperature\", \"Dewpoint\", \"VaporMix\"]].isel(y = slice(500, 800), x = slice(0, 50)).mean(dim = (\"y\", \"x\"))+0.5*afile_pastureconiforest_noon[[\"Pressure\", \"Temperature\", \"Dewpoint\", \"VaporMix\"]].isel(y = slice(500, 800), x = slice(350, 400)).mean(dim = (\"y\", \"x\")))\n",
    "\n",
    "fig, ax = plt.subplots(1, 1, figsize = (3,3), dpi = 200, layout = \"compressed\")\n",
    "ax.set_title(\"Moist Static Energy at 1200 LT\", fontsize = 10)\n",
    "forest_stripe_mse = calc_mse(forestthermo.sel(z = slice(0,3000)))\n",
    "pasture_stripe_mse = calc_mse(pasturethermo.sel(z = slice(0,3000)))\n",
    "ax.plot(pasturemse, afile_pasture_noon[\"z\"].sel(z = slice(0,3000)), color = \"red\", zorder = 0, linewidth = 1, label = \"Uniform Pasture\")\n",
    "ax.plot(pasture_stripe_mse, afile_pasture_noon[\"z\"].sel(z = slice(0,3000)), color = \"red\", linestyle = \"--\", linewidth = 1, zorder = 1, label = \"PF Pasture Stripe\")\n",
    "ax.plot(forestmse, afile_pasture_noon[\"z\"].sel(z = slice(0,3000)), color = \"dodgerblue\", linewidth = 1, zorder = 2, label = \"Uniform Forest\")\n",
    "ax.plot(forest_stripe_mse, afile_pasture_noon[\"z\"].sel(z = slice(0,3000)), color = \"dodgerblue\", linewidth = 1, linestyle = \"--\", zorder = 3, label = \"PF Forest Stripe\")\n",
    "# ax.plot(afile_pasture_noon[\"Temperature\"].isel(y = slice(500, 800)).sel(z = slice(0, 3000)).mean(dim = (\"x\", \"y\")) +\n",
    "#           2.5*10**6*afile_pasture_noon[\"VaporMix\"].isel(y = slice(500, 800)).sel(z = slice(0, 3000)).mean(dim = (\"x\", \"y\"))*10**(-3)*(1/1004) +\n",
    "#           9.81/1004 * afile_pasture_noon[\"z\"].sel(z = slice(0, 3000)), \n",
    "#           afile_pasture_noon[\"z\"].sel(z = slice(0, 3000)), color = \"red\", linewidth = 1, zorder = 1, linestyle = \"-\", label = \"Uniform Pasture\")\n",
    "# ax.plot(pasturethermo[\"Temperature\"].sel(z = slice(0, 3000)) +\n",
    "#           2.5*10**6*pasturethermo[\"VaporMix\"].sel(z = slice(0,3000))*10**(-3)*(1/1004) +\n",
    "#           9.81/1004 * pasturethermo[\"z\"].sel(z = slice(0, 3000)), \n",
    "#           pasturethermo[\"z\"].sel(z = slice(0, 3000)), color = \"red\", linewidth = 1, zorder = 1, linestyle = \"--\", label = \"Pasture Stripe\")\n",
    "# ax.plot(afile_coniforest_noon[\"Temperature\"].isel(y = slice(500, 800)).sel(z = slice(0, 3000)).mean(dim = (\"x\", \"y\")) +\n",
    "#           2.5*10**6*afile_coniforest_noon[\"VaporMix\"].isel(y = slice(500, 800)).sel(z = slice(0, 3000)).mean(dim = (\"x\", \"y\"))*10**(-3)*(1/1004) +\n",
    "#           9.81/1004 * afile_coniforest_noon[\"z\"].sel(z = slice(0, 3000)), \n",
    "#           afile_coniforest_noon[\"z\"].sel(z = slice(0, 3000)), color = \"dodgerblue\", linewidth = 1, zorder = 2, label = \"Uniform Forest (UF)\")\n",
    "# ax.plot((1/(1+forestthermo[\"VaporMix\"]/1000) * forestthermo[\"Temperature\"] + (forestthermo[\"VaporMix\"]/1000/(1+forestthermo[\"VaporMix\"]/1000)) * (1864/1004) + (forestthermo[\"VaporMix\"]/1000/(1+forestthermo[\"VaporMix\"]/1000)) * 2.5*10**6/1004 + forestthermo[\"z\"] * 9.81/1004).sel(z = slice(0,3000)), forestthermo[\"z\"].sel(z = slice(0,3000)), color = \"red\", linewidth = 1, zorder = 0, label = \"'Exact'\")\n",
    "# ax.plot(forestthermo[\"Temperature\"].sel(z = slice(0, 3000)) +\n",
    "#           2.5*10**6*forestthermo[\"VaporMix\"].sel(z = slice(0,3000))*10**(-3)*(1/1004) +\n",
    "#           9.81/1004 * forestthermo[\"z\"].sel(z = slice(0, 3000)), \n",
    "#           forestthermo[\"z\"].sel(z = slice(0, 3000)), color = \"dodgerblue\", linewidth = 1, zorder = 1, linestyle = \"--\", label = \"Approximation\")\n",
    "ax.legend()\n",
    "ax.set_ylabel(\"Altitude (m)\", fontsize = 10)\n",
    "ax.set_xlabel(\"Normalized Moist Static Energy (K)\", fontsize = 10)\n",
    "fig.savefig(\"/moonbow/ascheb/idealized/PaperFigs/MSE_striped.png\")"
   ]
  },
  {
   "cell_type": "markdown",
   "id": "06f7a1ac-f5d4-4414-89a6-73575b63f889",
   "metadata": {},
   "source": [
    "## Plot Difference Between Pasture and Forest Temps and Mixing Ratio"
   ]
  },
  {
   "cell_type": "code",
   "execution_count": null,
   "id": "7ab0a103-8f14-4738-87a3-8ba5c9a33d52",
   "metadata": {},
   "outputs": [],
   "source": [
    "forestthermo[\"VaporMix\"] = afile_pastureconiforest_noon[\"VaporMix\"].isel(x = slice(150, 250), y = slice(500,800)).mean(dim = (\"x\", \"y\"))\n",
    "pasturethermo[\"VaporMix\"] = 0.5*afile_pastureconiforest_noon[\"VaporMix\"].isel(x = slice(0, 50), y = slice(500,800)).mean(dim = (\"x\", \"y\"))+0.5*afile_pastureconiforest_noon[\"VaporMix\"].isel(x = slice(350, 400), y = slice(500,800)).mean(dim = (\"x\", \"y\"))"
   ]
  },
  {
   "cell_type": "code",
   "execution_count": null,
   "id": "fc2d7e23-8add-4073-a1b4-db46471a138d",
   "metadata": {},
   "outputs": [],
   "source": [
    "fig, (ax1, ax2) = plt.subplots(1, 2, figsize = (4, 2), dpi = 600)\n",
    "fig.suptitle(\"Difference in Temperature and Vapor Mixing Ratio \\n Between Forest and Pasture at 1200 LT\")\n",
    "for ax in (ax1, ax2):\n",
    "    ax.axhline(200, color = \"black\", linestyle = \"--\")\n",
    "ax1.plot(forestthermo[\"Temperature\"].sel(z = slice(0,2000))-pasturethermo[\"Temperature\"].sel(z = slice(0,2000)), forestthermo[\"z\"].sel(z = slice(0, 2000)))\n",
    "ax1.set_xlabel(\"Altitude (m)\")\n",
    "ax1.set_xlabel(\"Temperature (K)\")\n",
    "ax2.plot(forestthermo[\"VaporMix\"].sel(z = slice(0,2000))-pasturethermo[\"VaporMix\"].sel(z = slice(0, 2000)), forestthermo[\"z\"].sel(z = slice(0, 2000)), color = \"dodgerblue\")\n",
    "ax2.set_xlabel(\"Vapor Mixing Ratio (g/kg\")\n",
    "fig.savefig(\"../PaperFigs/profdif.png\")\n",
    "# plt.plot(forestthermo[\"z\"].sel(z = slice(0, 2000)), pasturethermo[\"Temperature\"])"
   ]
  },
  {
   "cell_type": "markdown",
   "id": "27d44a3a-930b-4f31-a642-6f82256d5f8f",
   "metadata": {},
   "source": [
    "## Calculations of Surface Conditions"
   ]
  },
  {
   "cell_type": "code",
   "execution_count": null,
   "id": "d7c3db1e-29e3-450c-8d5a-8e081809ac06",
   "metadata": {},
   "outputs": [],
   "source": [
    "print(afile_coniforest_noon[\"CanopyVaporMix\"].isel(patch = 1, y = slice(500,800)).mean())\n",
    "print(afile_pasture_noon[\"CanopyVaporMix\"].isel(patch = 1, y = slice(500, 800)).mean())"
   ]
  },
  {
   "cell_type": "code",
   "execution_count": null,
   "id": "b2f49509-2b9c-44bf-bc22-5579d8feef0e",
   "metadata": {},
   "outputs": [],
   "source": [
    "plt.plot(afile_pastureconiforest_noon[\"SrfPres\"].isel(y = slice(500, 800)).mean(dim = \"y\"))\n",
    "plt.plot(afile_suburbconiforest_noon[\"SrfPres\"].isel(y = slice(500, 800)).mean(dim = \"y\"))"
   ]
  },
  {
   "cell_type": "code",
   "execution_count": null,
   "id": "28543353-1eaf-4b6d-a50f-a8ad551735ab",
   "metadata": {},
   "outputs": [],
   "source": [
    "plt.figure(figsize = (4, 4), dpi = 200)\n",
    "plt.plot(afile_pastureconiforest_noon[\"ShortwaveDownSrf\"].isel(y=500)*(1-afile_coniforest_noon[\"SurfaceAlbedo\"].isel(y=500)) - afile_pastureconiforest_noon[\"LongwaveUpSrf\"].isel(y=500) + afile_pastureconiforest_noon[\"LongwaveDownSrf\"].isel(y = 500), color = \"gold\")\n",
    "# plt.plot(afile_pastureconiforest_noon[\"ShortwaveDownSrf\"].isel(y = 500), color = \"chartreuse\")\n",
    "plt.plot(afile_pastureconiforest_noon[\"SensibleHeatFlux\"].isel(y = 500), color = \"red\")\n",
    "plt.plot(afile_pastureconiforest_noon[\"LatentHeatFlux\"].isel(y = 500), color = \"purple\")\n",
    "plt.plot(afile_pastureconiforest_noon[\"ShortwaveDownSrf\"].isel(y=500)*(1-afile_coniforest_noon[\"SurfaceAlbedo\"].isel(y=500)) - afile_pastureconiforest_noon[\"LongwaveUpSrf\"].isel(y=500) + afile_pastureconiforest_noon[\"LongwaveDownSrf\"].isel(y = 500) - afile_pastureconiforest_noon[\"SensibleHeatFlux\"].isel(y = 500) - afile_pastureconiforest_noon[\"LatentHeatFlux\"].isel(y = 500), color = \"black\", linestyle = \"--\")"
   ]
  },
  {
   "cell_type": "code",
   "execution_count": null,
   "id": "30a1c36d-83ab-4c81-8dea-4691274e8ad2",
   "metadata": {},
   "outputs": [],
   "source": [
    "plt.figure(figsize = (4, 4), dpi = 200)\n",
    "plt.plot(afile_suburbconiforest_noon[\"ShortwaveDownSrf\"].isel(y=500)*(1-afile_coniforest_noon[\"SurfaceAlbedo\"].isel(y=500)) - afile_suburbconiforest_noon[\"LongwaveUpSrf\"].isel(y=500) + afile_suburbconiforest_noon[\"LongwaveDownSrf\"].isel(y = 500), color = \"gold\")\n",
    "# plt.plot(afile_suburbconiforest_noon[\"ShortwaveDownSrf\"].isel(y = 500), color = \"chartreuse\")\n",
    "plt.plot(afile_suburbconiforest_noon[\"SensibleHeatFlux\"].isel(y = 500), color = \"red\")\n",
    "plt.plot(afile_suburbconiforest_noon[\"LatentHeatFlux\"].isel(y = 500), color = \"purple\")\n",
    "plt.plot(afile_suburbconiforest_noon[\"ShortwaveDownSrf\"].isel(y=500)*(1-afile_coniforest_noon[\"SurfaceAlbedo\"].isel(y=500)) - afile_suburbconiforest_noon[\"LongwaveUpSrf\"].isel(y=500) + afile_suburbconiforest_noon[\"LongwaveDownSrf\"].isel(y = 500) - afile_suburbconiforest_noon[\"SensibleHeatFlux\"].isel(y = 500) - afile_suburbconiforest_noon[\"LatentHeatFlux\"].isel(y = 500), color = \"black\", linestyle = \"--\")"
   ]
  },
  {
   "cell_type": "code",
   "execution_count": null,
   "id": "5e08896b-750b-469d-9635-562b958040cf",
   "metadata": {},
   "outputs": [],
   "source": [
    "plt.figure(figsize = (4, 4), dpi = 200)\n",
    "plt.plot(afile_suburbpasture_noon[\"ShortwaveDownSrf\"].isel(y=500)*(1-afile_pasture_noon[\"SurfaceAlbedo\"].isel(y=500)) - afile_suburbpasture_noon[\"LongwaveUpSrf\"].isel(y=500) + afile_suburbpasture_noon[\"LongwaveDownSrf\"].isel(y = 500), color = \"gold\")\n",
    "# plt.plot(afile_suburbpasture_noon[\"ShortwaveDownSrf\"].isel(y = 500), color = \"chartreuse\")\n",
    "plt.plot(afile_suburbpasture_noon[\"SensibleHeatFlux\"].isel(y = 500), color = \"red\")\n",
    "plt.plot(afile_suburbpasture_noon[\"LatentHeatFlux\"].isel(y = 500), color = \"purple\")\n",
    "plt.plot(afile_suburbpasture_noon[\"ShortwaveDownSrf\"].isel(y=500)*(1-afile_pasture_noon[\"SurfaceAlbedo\"].isel(y=500)) - afile_suburbpasture_noon[\"LongwaveUpSrf\"].isel(y=500) + afile_suburbpasture_noon[\"LongwaveDownSrf\"].isel(y = 500) - afile_suburbpasture_noon[\"SensibleHeatFlux\"].isel(y = 500) - afile_suburbpasture_noon[\"LatentHeatFlux\"].isel(y = 500), color = \"black\", linestyle = \"--\")"
   ]
  },
  {
   "cell_type": "code",
   "execution_count": null,
   "id": "958899f4-3502-4bd7-97f7-cb22dd589a2f",
   "metadata": {},
   "outputs": [],
   "source": [
    "print(afile_pastureconiforest_noon[\"LatentHeatFlux\"].isel(y = slice(500,800), x = slice(150, 250)).mean())\n",
    "print(0.5*afile_pastureconiforest_noon[\"LatentHeatFlux\"].isel(y = slice(500,800), x = slice(0, 50)).mean()+0.5*afile_pastureconiforest_noon[\"LatentHeatFlux\"].isel(y = slice(500,800), x = slice(350, 400)).mean())\n",
    "print(afile_suburbconiforest_noon[\"LatentHeatFlux\"].isel(y = slice(500, 800), x = slice(150, 250)).mean())\n",
    "print(0.5*afile_suburbconiforest_noon[\"LatentHeatFlux\"].isel(y = slice(500, 800), x = slice(0, 50)).mean()+0.5*afile_suburbconiforest_noon[\"LatentHeatFlux\"].isel(y = slice(500, 800), x = slice(350, 400)).mean())\n",
    "print(afile_pastureconiforest_noon[\"SensibleHeatFlux\"].isel(y = slice(500,800), x = slice(150, 250)).mean())\n",
    "print(0.5*afile_pastureconiforest_noon[\"SensibleHeatFlux\"].isel(y = slice(500,800), x = slice(0, 50)).mean()+0.5*afile_pastureconiforest_noon[\"SensibleHeatFlux\"].isel(y = slice(500,800), x = slice(350, 400)).mean())\n",
    "print(afile_suburbconiforest_noon[\"SensibleHeatFlux\"].isel(y = slice(500, 800), x = slice(150, 250)).mean())\n",
    "print(0.5*afile_suburbconiforest_noon[\"SensibleHeatFlux\"].isel(y = slice(500, 800), x = slice(0, 50)).mean()+0.5*afile_suburbconiforest_noon[\"SensibleHeatFlux\"].isel(y = slice(500, 800), x = slice(350, 400)).mean())\n",
    "print(afile_pastureconiforest_noon[\"SensibleHeatFlux\"].isel(y = slice(500,800), x = slice(150, 250)).mean()/afile_pastureconiforest_noon[\"LatentHeatFlux\"].isel(y = slice(500,800), x = slice(150, 250)).mean())\n",
    "print((0.5*afile_pastureconiforest_noon[\"SensibleHeatFlux\"].isel(y = slice(500,800), x = slice(0, 50)).mean()+0.5*afile_pastureconiforest_noon[\"SensibleHeatFlux\"].isel(y = slice(500,800), x = slice(350, 400)).mean())/(0.5*afile_pastureconiforest_noon[\"LatentHeatFlux\"].isel(y = slice(500,800), x = slice(0, 50)).mean()+0.5*afile_pastureconiforest_noon[\"LatentHeatFlux\"].isel(y = slice(500,800), x = slice(350, 400)).mean()))\n",
    "print(afile_suburbconiforest_noon[\"SensibleHeatFlux\"].isel(y = slice(500,800), x = slice(150, 250)).mean()/afile_suburbconiforest_noon[\"LatentHeatFlux\"].isel(y = slice(500,800), x = slice(150, 250)).mean())\n",
    "print((0.5*afile_suburbconiforest_noon[\"SensibleHeatFlux\"].isel(y = slice(500,800), x = slice(0, 50)).mean()+0.5*afile_suburbconiforest_noon[\"SensibleHeatFlux\"].isel(y = slice(500,800), x = slice(350, 400)).mean())/(0.5*afile_suburbconiforest_noon[\"LatentHeatFlux\"].isel(y = slice(500,800), x = slice(0, 50)).mean()+0.5*afile_suburbconiforest_noon[\"LatentHeatFlux\"].isel(y = slice(500,800), x = slice(350, 400)).mean()))"
   ]
  },
  {
   "cell_type": "code",
   "execution_count": null,
   "id": "b0045205-9a79-424c-84c1-20038ad289ba",
   "metadata": {},
   "outputs": [],
   "source": [
    "print(afile_pastureconiforest_noon[\"SrfPres\"].isel(y = slice(500,800), x = slice(150, 250)).mean())\n",
    "print(0.5*afile_pastureconiforest_noon[\"SrfPres\"].isel(y = slice(500,800), x = slice(0, 50)).mean()+0.5*afile_pastureconiforest_noon[\"SrfPres\"].isel(y = slice(500,800), x = slice(350, 400)).mean())\n",
    "print(afile_suburbconiforest_noon[\"SrfPres\"].isel(y = slice(500, 800), x = slice(150, 250)).mean())\n",
    "print(0.5*afile_suburbconiforest_noon[\"SrfPres\"].isel(y = slice(500, 800), x = slice(0, 50)).mean()+0.5*afile_suburbconiforest_noon[\"SrfPres\"].isel(y = slice(500, 800), x = slice(350, 400)).mean())"
   ]
  },
  {
   "cell_type": "code",
   "execution_count": null,
   "id": "d9870da0-5e1e-4302-bb79-6aa045c7b2f5",
   "metadata": {},
   "outputs": [],
   "source": [
    "print(afile_pastureconiforest_noon[\"Pressure\"].isel(z = 0, y = slice(500,800), x = slice(150, 250)).mean())\n",
    "print(0.5*afile_pastureconiforest_noon[\"Pressure\"].isel(z = 0, y = slice(500,800), x = slice(0, 50)).mean()+0.5*afile_pastureconiforest_noon[\"Pressure\"].isel(z = 0, y = slice(500,800), x = slice(350, 400)).mean())\n",
    "print(afile_suburbconiforest_noon[\"Pressure\"].isel(z = 0, y = slice(500, 800), x = slice(150, 250)).mean())\n",
    "print(0.5*afile_suburbconiforest_noon[\"Pressure\"].isel(z = 0, y = slice(500, 800), x = slice(0, 50)).mean()+0.5*afile_suburbconiforest_noon[\"Pressure\"].isel(z = 0, y = slice(500, 800), x = slice(350, 400)).mean())"
   ]
  },
  {
   "cell_type": "code",
   "execution_count": null,
   "id": "8b2c48f6-a0cd-4c79-bd62-70ed7e1d6b13",
   "metadata": {},
   "outputs": [],
   "source": [
    "print(afile_pastureconiforest_noon[\"z\"])"
   ]
  },
  {
   "cell_type": "code",
   "execution_count": null,
   "id": "8c47f3c7-4902-43df-a254-bc1cb92963de",
   "metadata": {},
   "outputs": [],
   "source": [
    "print(afile_suburbpasture_noon[\"LatentHeatFlux\"].isel(y = slice(500, 800), x = slice(150, 250)).mean())\n",
    "print(0.5*afile_suburbpasture_noon[\"LatentHeatFlux\"].isel(y = slice(500, 800), x = slice(0, 50)).mean()+0.5*afile_suburbpasture_noon[\"LatentHeatFlux\"].isel(y = slice(500, 800), x = slice(350, 450)).mean())\n",
    "print(afile_suburbpasture_noon[\"SensibleHeatFlux\"].isel(y = slice(500,800), x = slice(150, 250)).mean())\n",
    "print(0.5*afile_suburbpasture_noon[\"SensibleHeatFlux\"].isel(y = slice(500,800), x = slice(0, 50)).mean()+0.5*afile_suburbpasture_noon[\"SensibleHeatFlux\"].isel(y = slice(500,800), x = slice(350, 400)).mean())\n",
    "print(afile_suburbpasture_noon[\"SensibleHeatFlux\"].isel(y = slice(500,800), x = slice(150, 250)).mean()/afile_suburbpasture_noon[\"LatentHeatFlux\"].isel(y = slice(500,800), x = slice(150, 250)).mean())\n",
    "print((0.5*afile_suburbpasture_noon[\"SensibleHeatFlux\"].isel(y = slice(500,800), x = slice(0, 50)).mean()+0.5*afile_suburbpasture_noon[\"SensibleHeatFlux\"].isel(y = slice(500,800), x = slice(350, 400)).mean())/(0.5*afile_suburbpasture_noon[\"LatentHeatFlux\"].isel(y = slice(500,800), x = slice(0, 50)).mean()+0.5*afile_suburbpasture_noon[\"LatentHeatFlux\"].isel(y = slice(500,800), x = slice(350, 400)).mean()))"
   ]
  },
  {
   "cell_type": "code",
   "execution_count": null,
   "id": "a6daec40-6689-4b59-b6d0-2191232a0b47",
   "metadata": {},
   "outputs": [],
   "source": [
    "print(afile_suburb_noon[\"LongwaveUpSrf\"].isel(y = slice(500,800)).mean())\n",
    "print(afile_suburb_noon[\"VegTemp\"].isel(patch = 1, y = slice(500, 800)).mean())\n",
    "print(afile_pasture_noon[\"LongwaveUpSrf\"].isel(y = slice(500, 800)).mean())\n",
    "print(afile_pasture_noon[\"VegTemp\"].isel(patch = 1, y = slice(500, 800)).mean())\n",
    "print(afile_coniforest_noon[\"LongwaveUpSrf\"].isel(y = slice(500,800)).mean())\n",
    "print(afile_coniforest_noon[\"VegTemp\"].isel(patch = 1, y = slice(500, 800)).mean())"
   ]
  },
  {
   "cell_type": "code",
   "execution_count": null,
   "id": "5f27fb5b-f540-4495-bcdf-b6b5c721ab79",
   "metadata": {},
   "outputs": [],
   "source": [
    "print(afile_suburbpasture_noon[\"SrfTemp\"].isel(y = slice(500, 800), x = slice(150, 250)).mean())\n",
    "print(0.5*afile_suburbpasture_noon[\"SrfTemp\"].isel(y = slice(500, 800), x = slice(0, 50)).mean()+0.5*afile_suburbpasture_noon[\"SrfTemp\"].isel(y = slice(500, 800), x = slice(350, 450)).mean())"
   ]
  },
  {
   "cell_type": "code",
   "execution_count": null,
   "id": "bda8b528-2d06-4387-8229-ed096fba8d94",
   "metadata": {},
   "outputs": [],
   "source": [
    "print(afile_pastureconiforest_noon[\"SoilEnergy\"].isel(patch = 1, y = slice(500,800), x = slice(150, 250)).integrate(coord = \"soillev\").mean())\n",
    "print(afile_pastureconiforest_noon[\"SoilEnergy\"].isel(patch = 1, y = slice(500,800), x = slice(0, 50)).integrate(coord = \"soillev\").mean())"
   ]
  },
  {
   "cell_type": "code",
   "execution_count": null,
   "id": "dddd84e7-3a3b-498f-815a-1ec1c012d49e",
   "metadata": {},
   "outputs": [],
   "source": [
    "print(afile_pastureconiforest_noon[\"VegTemp\"].isel(patch = 1, y = slice(500,800), x = slice(150, 250)).mean())\n",
    "print(afile_pastureconiforest_noon[\"VegTemp\"].isel(patch = 1, y = slice(500,800), x = slice(0, 50)).mean())"
   ]
  },
  {
   "cell_type": "code",
   "execution_count": null,
   "id": "4b95246a-72d4-4fc7-8d11-ceec9cd72cfe",
   "metadata": {},
   "outputs": [],
   "source": [
    "print(afile_pastureconiforest_noon[\"SrfTemp\"].isel(y = slice(500,800), x = slice(150, 250)).mean())\n",
    "print(afile_pastureconiforest_noon[\"SrfTemp\"].isel(y = slice(500,800), x = slice(0, 50)).mean())\n",
    "print(afile_suburbconiforest_noon[\"SrfTemp\"].isel(y = slice(500,800), x = slice(150, 250)).mean())\n",
    "print(afile_suburbconiforest_noon[\"SrfTemp\"].isel(y = slice(500,800), x = slice(0, 50)).mean())\n",
    "\n",
    "print(afile_pastureconiforest_noon[\"SrfPres\"].isel(y = slice(500,800), x = slice(150, 250)).mean())\n",
    "print(afile_pastureconiforest_noon[\"SrfPres\"].isel(y = slice(500,800), x = slice(0, 50)).mean())\n",
    "print(afile_suburbconiforest_noon[\"SrfPres\"].isel(y = slice(500,800), x = slice(150, 250)).mean())\n",
    "print(afile_suburbconiforest_noon[\"SrfPres\"].isel(y = slice(500,800), x = slice(0, 50)).mean())\n",
    "print(afile_suburbpasture_noon[\"SrfPres\"].isel(y = slice(500, 800), x = slice(150, 250)).mean())\n",
    "print(afile_suburbpasture_noon[\"SrfPres\"].isel(y = slice(500, 800), x = slice(0, 50)).mean())"
   ]
  },
  {
   "cell_type": "code",
   "execution_count": null,
   "id": "111fcd71-ad2a-4a7e-887b-1b2ec128c5d6",
   "metadata": {},
   "outputs": [],
   "source": [
    "print(afile_pastureconiforest_noon[\"SoilEnergy\"].isel(patch = 1, y = slice(500,800), x = slice(150, 250)).integrate(coord = \"soillev\").mean())\n",
    "print(afile_pastureconiforest_noon[\"SoilEnergy\"].isel(patch = 1, y = slice(500,800), x = slice(0, 50)).integrate(coord = \"soillev\").mean())"
   ]
  },
  {
   "cell_type": "markdown",
   "id": "40cbf3f0-d9a9-4739-94dd-5d43a86c68af",
   "metadata": {},
   "source": [
    "## PWAT Calculations"
   ]
  },
  {
   "cell_type": "code",
   "execution_count": null,
   "id": "910e0b41-0d36-44f1-8f82-91afc7146ee3",
   "metadata": {},
   "outputs": [],
   "source": [
    "print(afile_pastureconiforest_noon[\"PWAT\"].isel(y = slice(500, 800), x = slice(150, 250)).mean())\n",
    "print(afile_pastureconiforest_noon[\"PWAT\"].isel(y = slice(500, 800), x = slice(0, 50)).mean())\n",
    "print(afile_suburbconiforest_noon[\"PWAT\"].isel(y = slice(500, 800), x = slice(150, 250)).mean())\n",
    "print(afile_suburbconiforest_noon[\"PWAT\"].isel(y = slice(500, 800), x = slice(0, 50)).mean())\n",
    "print(afile_suburbpasture_noon[\"PWAT\"].isel(y = slice(500, 800), x = slice(150, 250)).mean())\n",
    "print(afile_suburbpasture_noon[\"PWAT\"].isel(y = slice(500, 800), x = slice(0, 50)).mean())"
   ]
  },
  {
   "cell_type": "markdown",
   "id": "5be86ce6-8a17-4e9f-b0d2-0997b3976791",
   "metadata": {},
   "source": [
    "## Print Some Surface Calculations more Readably"
   ]
  },
  {
   "cell_type": "code",
   "execution_count": null,
   "id": "8a15bb3e-ec01-4480-a65a-bc5f974a5f57",
   "metadata": {},
   "outputs": [],
   "source": [
    "print(\"PCF Forest 200 m Vapor Mixing Ratio\", afile_pastureconiforest_noon[\"VaporMix\"].isel(z = 5, y = slice(500, 800), x = slice(150, 250)).mean().values)\n",
    "print(\"PCF Pasture 200 m Vapor Mixing Ratio\", afile_pastureconiforest_noon[\"VaporMix\"].isel(z = 5, y = slice(500, 800), x = slice(0, 50)).mean().values)\n",
    "print(\"SCF Forest 200 m Vapor Mixing Ratio\", afile_suburbconiforest_noon[\"VaporMix\"].isel(z = 5, y = slice(500, 800), x = slice(150, 250)).mean().values)\n",
    "print(\"PCF Suburb 200 m Vapor Mixing Ratio\", afile_suburbconiforest_noon[\"VaporMix\"].isel(z = 5, y = slice(500, 800), x = slice(0, 50)).mean().values)\n",
    "print(\"SP Pasture 200 m Vapor Mixing Ratio\", afile_suburbpasture_noon[\"VaporMix\"].isel(z = 5, y = slice(500, 800), x = slice(150, 250)).mean().values)\n",
    "print(\"SP Suburb 200 m Vapor Mixing Ratio\",afile_suburbpasture_noon[\"VaporMix\"].isel(z = 5, y = slice(500, 800), x = slice(0, 50)).mean().values)\n",
    "\n",
    "print(\"PCF Forest 200 m Air Temperature\", afile_pastureconiforest_noon[\"Temperature\"].isel(z = 5, y = slice(500, 800), x = slice(150, 250)).mean().values)\n",
    "print(\"PCF Pasture 200 m Air Temperature\", afile_pastureconiforest_noon[\"Temperature\"].isel(z = 5, y = slice(500, 800), x = slice(0, 50)).mean().values)\n",
    "print(\"SCF Forest 200 m Air Temperature\", afile_suburbconiforest_noon[\"Temperature\"].isel(z = 5, y = slice(500, 800), x = slice(150, 250)).mean().values)\n",
    "print(\"SCF Suburb 200 m Air Temperature\", afile_suburbconiforest_noon[\"Temperature\"].isel(z = 5, y = slice(500, 800), x = slice(0, 50)).mean().values)\n",
    "print(\"SP Pasture 200 m Air Temperature\", afile_suburbpasture_noon[\"Temperature\"].isel(z = 5, y = slice(500, 800), x = slice(150, 250)).mean().values)\n",
    "print(\"SP Suburb 200 m Air Temperature\", afile_suburbpasture_noon[\"Temperature\"].isel(z = 5, y = slice(500, 800), x = slice(0, 50)).mean().values)"
   ]
  },
  {
   "cell_type": "code",
   "execution_count": null,
   "id": "4fd0c954-77bd-4ad8-b9be-c8bf21816af3",
   "metadata": {},
   "outputs": [],
   "source": [
    "print(afile_pastureconiforest_noon[\"VaporMix\"].isel(y = slice(500, 800), x = slice(150, 250)).sel(z = 1500, method = \"nearest\").mean())\n",
    "print(afile_pastureconiforest_noon[\"VaporMix\"].isel(y = slice(500, 800), x = slice(0, 50)).sel(z = 1500, method = \"nearest\").mean())\n",
    "print(afile_suburbconiforest_noon[\"VaporMix\"].isel(y = slice(500, 800), x = slice(150, 250)).sel(z = 1500, method = \"nearest\").mean())\n",
    "print(afile_suburbconiforest_noon[\"VaporMix\"].isel(y = slice(500, 800), x = slice(0, 50)).sel(z = 1500, method = \"nearest\").mean())\n",
    "print(afile_suburbpasture_noon[\"VaporMix\"].isel(y = slice(500, 800), x = slice(150, 250)).sel(z = 1500, method = \"nearest\").mean())\n",
    "print(afile_suburbpasture_noon[\"VaporMix\"].isel(y = slice(500, 800), x = slice(0, 50)).sel(z = 1500, method = \"nearest\").mean())"
   ]
  },
  {
   "cell_type": "code",
   "execution_count": null,
   "id": "16441051-027d-4704-8bd2-db2590195d0d",
   "metadata": {},
   "outputs": [],
   "source": [
    "print(afile_pastureconiforest_noon[\"Temperature\"].isel(y = slice(500, 800), x = slice(150, 250)).sel(z = 1500, method = \"nearest\").mean())\n",
    "print(afile_pastureconiforest_noon[\"Temperature\"].isel(y = slice(500, 800), x = slice(0, 50)).sel(z = 1500, method = \"nearest\").mean())\n",
    "print(afile_suburbconiforest_noon[\"Temperature\"].isel(y = slice(500, 800), x = slice(150, 250)).sel(z = 1500, method = \"nearest\").mean())\n",
    "print(afile_suburbconiforest_noon[\"Temperature\"].isel(y = slice(500, 800), x = slice(0, 50)).sel(z = 1500, method = \"nearest\").mean())\n",
    "print(afile_suburbpasture_noon[\"Temperature\"].isel(y = slice(500, 800), x = slice(150, 250)).sel(z = 1500, method = \"nearest\").mean())\n",
    "print(afile_suburbpasture_noon[\"Temperature\"].isel(y = slice(500, 800), x = slice(0, 50)).sel(z = 1500, method = \"nearest\").mean())"
   ]
  },
  {
   "cell_type": "code",
   "execution_count": null,
   "id": "5b1f3540-6a19-4b82-934a-1d8fe43110c1",
   "metadata": {},
   "outputs": [],
   "source": [
    "plt.pcolormesh(afile_suburbpasture_noon[\"x\"], afile_suburbpasture_noon[\"z\"].sel(z=zbnds), afile_suburbpasture_noon[\"Temperature\"].isel(y = slice(500, 800)).sel(z = zbnds).mean(dim = \"y\") - afile_pasture_noon[\"Temperature\"].isel(y = slice(500, 800)).sel(z = zbnds).mean(dim = \"y\"), vmin = -2, vmax = 2, cmap = \"Spectral_r\")"
   ]
  },
  {
   "cell_type": "code",
   "execution_count": null,
   "id": "53bf14ee-7324-473a-908d-c0da2786268a",
   "metadata": {},
   "outputs": [],
   "source": [
    "plt.pcolormesh(afile_pastureconiforest_noon[\"w\"].sel(z = 2000, method = \"nearest\"), vmin = -5, vmax = 5, cmap = \"bwr\")"
   ]
  },
  {
   "cell_type": "code",
   "execution_count": null,
   "id": "401f53e7-fa74-46e5-9f64-aec29eda5765",
   "metadata": {},
   "outputs": [],
   "source": [
    "plt.pcolormesh(afile_pastureconiforest_noon[\"x\"], afile_pastureconiforest_noon[\"z\"].sel(z=zbnds), afile_pastureconiforest_noon[\"Dewpoint\"].isel(y = slice(500, 800)).sel(z = zbnds).mean(dim = \"y\") - afile_pasture_noon[\"Dewpoint\"].isel(y = slice(500, 800)).sel(z = zbnds).mean(dim = \"y\"), vmin = -2, vmax = 2, cmap = \"BrBG\")"
   ]
  },
  {
   "cell_type": "markdown",
   "id": "6aa8f22e-1d67-4cc0-90c3-f0bdab2d1014",
   "metadata": {},
   "source": [
    "## Evaluate Surface Temperature and Pressure at Different Times"
   ]
  },
  {
   "cell_type": "code",
   "execution_count": null,
   "id": "9a4099b2-643c-4f8f-828c-efdc6266f59c",
   "metadata": {},
   "outputs": [],
   "source": [
    "ftime = \"2022-06-17-230000\"\n",
    "afile_pasture_ftime = xr.open_dataset(f\"/moonbow/ascheb/idealized/unipasture-wind/ppfiles_paper/mvars-cart-{ftime}-g1.nc\")\n",
    "afile_suburb_ftime = xr.open_dataset(f\"/moonbow/ascheb/idealized/unisuburb-wind/ppfiles_paper/mvars-cart-{ftime}-g1.nc\")\n",
    "afile_coniforest_ftime = xr.open_dataset(f\"/moonbow/ascheb/idealized/coniforest-wind/ppfiles_paper/mvars-cart-{ftime}-g1.nc\")\n",
    "afile_pastureconiforest_ftime = xr.open_dataset(f\"/moonbow/ascheb/idealized/pastureconiforest-wind/ppfiles_paper/mvars-cart-{ftime}-g1.nc\")\n",
    "afile_suburbconiforest_ftime = xr.open_dataset(f\"/moonbow/ascheb/idealized/suburbconiforest-wind/ppfiles_paper/mvars-cart-{ftime}-g1.nc\")\n",
    "afile_suburbpasture_ftime = xr.open_dataset(f\"/moonbow/ascheb/idealized/suburbpasture-wind/ppfiles_paper/mvars-cart-{ftime}-g1.nc\")"
   ]
  },
  {
   "cell_type": "code",
   "execution_count": null,
   "id": "1c624d20-0bb7-40e0-b452-e58132aacdea",
   "metadata": {},
   "outputs": [],
   "source": [
    "from palettable.cartocolors.sequential import Emrld_7\n",
    "cloudbasecmap = Emrld_7.get_mpl_colormap().reversed()\n",
    "pfig, pax = plt.subplots(1,1, dpi = 300)\n",
    "pax.set_facecolor(\"black\")\n",
    "cldbasemp = pax.pcolormesh(afile_pastureconiforest_ftime[\"CloudBaseHeight\"].isel(y = slice(200,800)).where(afile_pastureconiforest_ftime[\"CloudBaseHeight\"].isel(y = slice(200, 800))<=2500), vmin = 1250, vmax = 2500, cmap = cloudbasecmap)\n",
    "pfig.colorbar(cldbasemp, orientation = \"horizontal\")"
   ]
  },
  {
   "cell_type": "code",
   "execution_count": null,
   "id": "a23699ae-eb16-413a-9249-93f033b97caa",
   "metadata": {},
   "outputs": [],
   "source": [
    "print(afile_pastureconiforest_ftime[\"SrfTemp\"].isel(y = slice(500, 800), x = slice(150, 250)).mean().values)\n",
    "print(0.5*afile_pastureconiforest_ftime[\"SrfTemp\"].isel(y = slice(500, 800), x = slice(0, 50)).mean().values + 0.5*afile_pastureconiforest_ftime[\"SrfTemp\"].isel(y = slice(500, 800), x = slice(350, 400)).mean().values)\n",
    "print(afile_suburbconiforest_ftime[\"SrfTemp\"].isel(y = slice(500, 800), x = slice(150, 250)).mean().values)\n",
    "print(0.5*afile_suburbconiforest_ftime[\"SrfTemp\"].isel(y = slice(500, 800), x = slice(0, 50)).mean().values + 0.5*afile_suburbconiforest_ftime[\"SrfTemp\"].isel(y = slice(500, 800), x = slice(350, 400)).mean().values)"
   ]
  },
  {
   "cell_type": "code",
   "execution_count": null,
   "id": "e3599b42-839e-4769-8a06-76c4aa1e239b",
   "metadata": {},
   "outputs": [],
   "source": [
    "print(afile_pastureconiforest_ftime[\"SrfPres\"].isel(y = slice(500, 800), x = slice(150, 250)).mean().values)\n",
    "print(0.5*afile_pastureconiforest_ftime[\"SrfPres\"].isel(y = slice(500, 800), x = slice(0, 50)).mean().values + 0.5*afile_pastureconiforest_ftime[\"SrfPres\"].isel(y = slice(500, 800), x = slice(350, 400)).mean().values)\n",
    "print(afile_suburbconiforest_ftime[\"SrfPres\"].isel(y = slice(500, 800), x = slice(150, 250)).mean().values)\n",
    "print(0.5*afile_suburbconiforest_ftime[\"SrfPres\"].isel(y = slice(500, 800), x = slice(0, 50)).mean().values + 0.5*afile_suburbconiforest_ftime[\"SrfPres\"].isel(y = slice(500, 800), x = slice(350, 400)).mean().values)"
   ]
  },
  {
   "cell_type": "code",
   "execution_count": null,
   "id": "c00f2cf8-6560-46ad-94dd-1a113fe8f32a",
   "metadata": {},
   "outputs": [],
   "source": [
    "preszalt = 3000\n",
    "print(afile_pastureconiforest_ftime[\"Pressure\"].isel(y = slice(500, 800), x = slice(150, 250)).sel(z=preszalt, method = \"nearest\").mean().values)\n",
    "print(0.5*afile_pastureconiforest_ftime[\"Pressure\"].isel(y = slice(500, 800), x = slice(0, 50)).sel(z=preszalt, method = \"nearest\").mean().values + 0.5*afile_pastureconiforest_ftime[\"Pressure\"].isel(y = slice(500, 800), x = slice(350, 400)).sel(z=preszalt, method = \"nearest\").mean().values)\n",
    "print(afile_suburbconiforest_ftime[\"Pressure\"].isel(y = slice(500, 800), x = slice(150, 250)).sel(z=preszalt, method = \"nearest\").mean().values)\n",
    "print(0.5*afile_suburbconiforest_ftime[\"Pressure\"].isel(y = slice(500, 800), x = slice(0, 50)).sel(z=preszalt, method = \"nearest\").mean().values + 0.5*afile_suburbconiforest_ftime[\"Pressure\"].isel(y = slice(500, 800), x = slice(350, 400)).sel(z=preszalt, method = \"nearest\").mean().values)"
   ]
  },
  {
   "cell_type": "code",
   "execution_count": null,
   "id": "2fc34e35-fcff-4df2-84ee-eb99404da9f4",
   "metadata": {},
   "outputs": [],
   "source": [
    "print(afile_pastureconiforest_ftime[\"SrfTemp\"].isel(y = slice(400, 500), x = slice(150, 250)).mean().values)\n",
    "print(0.5*afile_pastureconiforest_ftime[\"SrfTemp\"].isel(y = slice(400, 500), x = slice(0, 50)).mean().values + 0.5*afile_pastureconiforest_ftime[\"SrfTemp\"].isel(y = slice(500, 800), x = slice(350, 400)).mean().values)\n",
    "print(afile_suburbconiforest_ftime[\"SrfTemp\"].isel(y = slice(400, 500), x = slice(150, 250)).mean().values)\n",
    "print(0.5*afile_suburbconiforest_ftime[\"SrfTemp\"].isel(y = slice(400, 500), x = slice(0, 50)).mean().values + 0.5*afile_suburbconiforest_ftime[\"SrfTemp\"].isel(y = slice(500, 800), x = slice(350, 400)).mean().values)"
   ]
  },
  {
   "cell_type": "code",
   "execution_count": null,
   "id": "78bffece-51ea-47f6-b8d0-137f6d151c4b",
   "metadata": {},
   "outputs": [],
   "source": [
    "print(afile_pastureconiforest_ftime[\"SrfPres\"].isel(y = slice(400, 500), x = slice(150, 250)).mean().values)\n",
    "print(0.5*afile_pastureconiforest_ftime[\"SrfPres\"].isel(y = slice(400, 500), x = slice(0, 50)).mean().values + 0.5*afile_pastureconiforest_ftime[\"SrfPres\"].isel(y = slice(400, 500), x = slice(350, 400)).mean().values)\n",
    "print(afile_suburbconiforest_ftime[\"SrfPres\"].isel(y = slice(400, 500), x = slice(150, 250)).mean().values)\n",
    "print(0.5*afile_suburbconiforest_ftime[\"SrfPres\"].isel(y = slice(400, 500), x = slice(0, 50)).mean().values + 0.5*afile_suburbconiforest_ftime[\"SrfPres\"].isel(y = slice(400, 500), x = slice(350, 400)).mean().values)"
   ]
  },
  {
   "cell_type": "code",
   "execution_count": null,
   "id": "efc75ab2-7245-4167-b970-812dc4b2f852",
   "metadata": {},
   "outputs": [],
   "source": [
    "plt.figure(figsize = (4,4), dpi = 300)\n",
    "plt.plot(afile_pastureconiforest_ftime[\"Pressure\"].isel(y = slice(500, 800), x = slice(150, 250)).mean(dim = (\"x\",\"y\")).values, afile_pastureconiforest_ftime[\"z\"].values, color = \"red\")\n",
    "plt.plot(0.5*afile_pastureconiforest_ftime[\"Pressure\"].isel(y = slice(500, 800), x = slice(0, 50)).mean(dim = (\"x\",\"y\")).values + 0.5*afile_pastureconiforest_ftime[\"Pressure\"].isel(y = slice(500, 800), x = slice(350, 400)).mean(dim = (\"x\",\"y\")).values, afile_pastureconiforest_ftime[\"z\"].values, color = \"maroon\")\n",
    "plt.plot(afile_suburbconiforest_ftime[\"Pressure\"].isel(y = slice(500, 800), x = slice(150, 250)).mean(dim = (\"x\",\"y\")).values, afile_pastureconiforest_ftime[\"z\"].values, color = \"red\", linestyle = \"--\")\n",
    "plt.plot(0.5*afile_suburbconiforest_ftime[\"Pressure\"].isel(y = slice(500, 800), x = slice(0, 50)).mean(dim = (\"x\",\"y\")).values + 0.5*afile_suburbconiforest_ftime[\"Pressure\"].isel(y = slice(500, 800), x = slice(350, 400)).mean(dim = (\"x\",\"y\")).values, afile_pastureconiforest_ftime[\"z\"].values, color = \"maroon\", linestyle = \"--\")"
   ]
  },
  {
   "cell_type": "code",
   "execution_count": null,
   "id": "57eb0599-aef4-445e-9e4b-bd63c3495d45",
   "metadata": {},
   "outputs": [],
   "source": [
    "plt.figure(figsize = (4,4), dpi = 300)\n",
    "plt.plot((afile_pastureconiforest_ftime[\"Rho\"]*287*afile_pastureconiforest_ftime[\"Temperature\"]).isel(y = slice(500, 800), x = slice(150, 250)).mean(dim = (\"x\",\"y\")).values, afile_pastureconiforest_ftime[\"z\"].values, color = \"red\")\n",
    "plt.plot(0.5*(afile_pastureconiforest_ftime[\"Rho\"]*287*afile_pastureconiforest_ftime[\"Temperature\"]).isel(y = slice(500, 800), x = slice(0, 50)).mean(dim = (\"x\",\"y\")).values + 0.5*(afile_pastureconiforest_ftime[\"Rho\"]*287*afile_pastureconiforest_ftime[\"Temperature\"]).isel(y = slice(500, 800), x = slice(350, 400)).mean(dim = (\"x\",\"y\")).values, afile_pastureconiforest_ftime[\"z\"].values, color = \"maroon\")\n",
    "plt.plot((afile_suburbconiforest_ftime[\"Rho\"]*287*afile_suburbconiforest_ftime[\"Temperature\"]).isel(y = slice(500, 800), x = slice(150, 250)).mean(dim = (\"x\",\"y\")).values, afile_pastureconiforest_ftime[\"z\"].values, color = \"red\", linestyle = \"--\")\n",
    "plt.plot(0.5*(afile_suburbconiforest_ftime[\"Rho\"]*287*afile_suburbconiforest_ftime[\"Temperature\"]).isel(y = slice(500, 800), x = slice(0, 50)).mean(dim = (\"x\",\"y\")).values + 0.5*(afile_suburbconiforest_ftime[\"Rho\"]*287*afile_suburbconiforest_ftime[\"Temperature\"]).isel(y = slice(500, 800), x = slice(350, 400)).mean(dim = (\"x\",\"y\")).values, afile_pastureconiforest_ftime[\"z\"].values, color = \"maroon\", linestyle = \"--\")"
   ]
  },
  {
   "cell_type": "code",
   "execution_count": null,
   "id": "7d6d97b0-ddd7-4c40-bf05-606a0a038597",
   "metadata": {},
   "outputs": [],
   "source": [
    "forestthermo_ftime = afile_pastureconiforest_ftime[[\"Pressure\", \"Temperature\", \"Dewpoint\"]].isel(y = slice(500, 800), x = slice(150, 250)).mean(dim = (\"y\", \"x\"))\n",
    "pasturethermo_ftime = (0.5*afile_pastureconiforest_ftime[[\"Pressure\", \"Temperature\", \"Dewpoint\"]].isel(y = slice(500, 800), x = slice(0, 50)).mean(dim = (\"y\", \"x\"))+0.5*afile_pastureconiforest_ftime[[\"Pressure\", \"Temperature\", \"Dewpoint\"]].isel(y = slice(500, 800), x = slice(350, 400)).mean(dim = (\"y\", \"x\")))\n",
    "forestthermo_sf_ftime = afile_suburbconiforest_ftime[[\"Pressure\", \"Temperature\", \"Dewpoint\"]].isel(y = slice(500, 800), x = slice(150, 250)).mean(dim = (\"y\", \"x\"))\n",
    "suburbthermo_ftime = (0.5*afile_suburbconiforest_ftime[[\"Pressure\", \"Temperature\", \"Dewpoint\"]].isel(y = slice(500, 800), x = slice(0, 50)).mean(dim = (\"y\", \"x\"))+0.5*afile_suburbconiforest_ftime[[\"Pressure\", \"Temperature\", \"Dewpoint\"]].isel(y = slice(500, 800), x = slice(350, 400)).mean(dim = (\"y\", \"x\"))) \n",
    "\n",
    "import metpy.calc as mcalc\n",
    "from metpy.plots import SkewT\n",
    "from metpy.units import units\n",
    "\n",
    "tfig = plt.figure(figsize = (5, 4), dpi = 200)\n",
    "testskew = SkewT(tfig, rotation = 45)\n",
    "testskew.ax.set_ylim(1050, 200)\n",
    "testskew.ax.set_xlim(10, 40)\n",
    "testskew.ax.axhline(forestthermo_ftime[\"Pressure\"].sel(z = 200, method = \"nearest\"), color = \"black\")\n",
    "fortemp, = testskew.plot(forestthermo_ftime[\"Pressure\"]*units.hPa, forestthermo_ftime[\"Temperature\"]*units.K-273.15*units.K, color = \"red\", label = \"Temperature over Forest\", linewidth = 1)\n",
    "pastemp, = testskew.plot(pasturethermo_ftime[\"Pressure\"]*units.hPa, pasturethermo_ftime[\"Temperature\"]*units.K-273.15*units.K, color = \"maroon\", label = \"Temperature over Pasture\", linewidth = 1)\n",
    "fordew, = testskew.plot(forestthermo_ftime[\"Pressure\"]*units.hPa, forestthermo_ftime[\"Dewpoint\"]*units.K-273.15*units.K, color = \"dodgerblue\", label = \"Dewpoint over Forest\", linewidth = 1)\n",
    "pasdew, = testskew.plot(pasturethermo_ftime[\"Pressure\"]*units.hPa, pasturethermo_ftime[\"Dewpoint\"]*units.K-273.15*units.K, color = \"midnightblue\", label = \"Dewpoint over Pasture\", linewidth = 1)\n",
    "testskew.plot(forestthermo_sf_ftime[\"Pressure\"]*units.hPa, forestthermo_sf_ftime[\"Temperature\"]*units.K-273.15*units.K, color  = \"red\", linestyle = \"--\")\n",
    "testskew.plot(forestthermo_sf_ftime[\"Pressure\"]*units.hPa, forestthermo_sf_ftime[\"Dewpoint\"]*units.K-273.15*units.K, color = \"dodgerblue\", linestyle = \"--\")\n",
    "testskew.plot(suburbthermo_ftime[\"Pressure\"]*units.hPa, suburbthermo_ftime[\"Temperature\"]*units.K-273.15*units.K, color  = \"maroon\", linestyle = \"--\")\n",
    "testskew.plot(suburbthermo_ftime[\"Pressure\"]*units.hPa, suburbthermo_ftime[\"Dewpoint\"]*units.K-273.15*units.K, color = \"midnightblue\", linestyle = \"--\")\n",
    "dryads = testskew.plot_dry_adiabats(t0 = np.arange(-40, 200, 10)*units.degC, colors = \"tomato\", linewidths = 0.75, label = \"Dry Adiabats\", alpha = 0.5)\n",
    "moistads = testskew.plot_moist_adiabats(t0 = np.arange(-40, 45, 5)*units.degC, colors = \"dodgerblue\", linewidths = 0.75, label = \"Moist Adiabats\", alpha = 0.5)\n",
    "# testskew.plot_mixing_lines(pressure = np.arange(1025, 450, -25)*units.hPa, colors = \"limegreen\", linewidths = 0.75, label = \")\n",
    "proflegend = testskew.ax.legend(framealpha = 0, fontsize = 6, loc = \"upper right\", handles = [fortemp, pastemp, fordew, pasdew])\n",
    "testskew.ax.add_artist(proflegend)\n",
    "backlegend = testskew.ax.legend(framealpha = 0, fontsize = 6, loc = \"lower left\", handles = [dryads, moistads], bbox_to_anchor=(0.0, -0.01))\n",
    "testskew.ax.add_artist(backlegend)\n",
    "testskew.ax.set_ylabel(\"Pressure (hPa)\", fontsize = 8)\n",
    "testskew.ax.set_xlabel(\"Temperature (C)\", fontsize = 8)\n",
    "testskew.ax.set_title(f\"Forest and Pasture Thermodynamic Profiles at {(datetime.strptime(ftime, '%Y-%m-%d-%H%M%S')-timedelta(hours=5)).strftime('%H%M')} LT\", fontsize = 10)"
   ]
  },
  {
   "cell_type": "code",
   "execution_count": null,
   "id": "02590421-18ca-40a0-a2e5-36c8f1b98b12",
   "metadata": {},
   "outputs": [],
   "source": [
    "afile_pasture_ftime.close(); del afile_pasture_ftime\n",
    "afile_coniforest_ftime.close(); del afile_coniforest_ftime\n",
    "afile_suburb_ftime.close(); del afile_suburb_ftime\n",
    "afile_pastureconiforest_ftime.close(); del afile_pastureconiforest_ftime\n",
    "afile_suburbconiforest_ftime.close(); del afile_suburbconiforest_ftime\n",
    "afile_suburbpasture_ftime.close(); del afile_suburbpasture_ftime"
   ]
  },
  {
   "cell_type": "code",
   "execution_count": null,
   "id": "fe25c371-8590-4934-b1f5-5d4ec6818b73",
   "metadata": {},
   "outputs": [],
   "source": [
    "# plt.plot(afile_pastureconiforest_noon[\"x\"], afile_pastureconiforest_noon[\"w\"].isel(y = slice(500, 800)).rolling(x = 5).mean().sel(z = 1500, method = \"nearest\").mean(dim = \"y\"))"
   ]
  },
  {
   "cell_type": "code",
   "execution_count": null,
   "id": "0d1e9857-c3b9-480c-b15a-b7638ca4071a",
   "metadata": {},
   "outputs": [],
   "source": [
    "# zbnds = slice(0, 5000)\n",
    "# plt.figure(figsize = (4,4), dpi = 300)\n",
    "# plt.yticks([0, 900, 1000, 1100, 1200, 1300, 2000, 3000, 4000])\n",
    "# plt.pcolormesh(afile_pastureconiforest_noon[\"x\"], afile_pastureconiforest_noon[\"z\"].sel(z = zbnds), afile_pastureconiforest_noon[\"VaporMix\"].sel(z = zbnds).isel(y = slice(500, 800)).mean(dim = \"y\"), vmin = 4, vmax = 18, cmap = \"BrBG\")\n",
    "# # plt.contour(afile_pastureconiforest_noon[\"x\"], afile_pastureconiforest_noon[\"z\"].sel(z=zbnds), afile_pastureconiforest_noon[\"Pressure\"].sel(z=zbnds).isel(y = slice(500, 800)).mean(dim = \"y\"), colors = \"black\", linestyles = \"--\")\n",
    "# plt.plot(afile_pastureconiforest_noon[\"x\"], 1000*(afile_pastureconiforest_noon[\"Temperature\"].isel(y = slice(500, 800)).sel(z = slice(0, 1000)).mean(dim = (\"y\", \"z\"))-afile_pastureconiforest_noon[\"Dewpoint\"].isel(y = slice(500, 800)).sel(z = slice(0, 1000)).mean(dim = (\"y\", \"z\")))/8, color = \"red\", linestyle = \"--\")\n",
    "# plt.plot(afile_pastureconiforest_noon[\"x\"], afile_pastureconiforest_noon[\"CloudBaseHeight\"].isel(y = slice(500, 800)).mean(dim = \"y\"), color = \"blue\", linestyle = \"-.\")"
   ]
  },
  {
   "cell_type": "markdown",
   "id": "cdeb6b93-5d05-48c1-bf7b-00e1a972554c",
   "metadata": {},
   "source": [
    "## Very Crude Estimate of PBL Height in PF Simulation"
   ]
  },
  {
   "cell_type": "code",
   "execution_count": null,
   "id": "a7963731-821c-48d8-9cf9-1cf71effae38",
   "metadata": {},
   "outputs": [],
   "source": [
    "# tempdiff_up = 0\n",
    "# tempdiff_us = 0\n",
    "# tempdiff_ucf = 0\n",
    "# for zlev in afile_pasture_noon[\"z\"][40:0:-1]:\n",
    "#     # print(zlev)\n",
    "#     zdiff_up = afile_pasture_noon[\"VaporMix\"][:41,500:,:].mean(dim = (\"y\",\"x\")).differentiate(coord = \"z\").differentiate(coord=\"z\").sel(z=zlev)\n",
    "#     zdiff_us = afile_suburb_noon[\"VaporMix\"][:41,500:,:].mean(dim = (\"y\",\"x\")).differentiate(coord = \"z\").differentiate(coord=\"z\").sel(z=zlev)\n",
    "#     zdiff_ucf = afile_coniforest_noon[\"VaporMix\"][:41,500:,:].mean(dim = (\"y\",\"x\")).differentiate(coord = \"z\").differentiate(coord=\"z\").sel(z=zlev)\n",
    "#     if zdiff_up < tempdiff_up:\n",
    "#         zpbl_up = zlev\n",
    "#         tempdiff_up = zdiff_up\n",
    "#     if zdiff_us < tempdiff_us:\n",
    "#         zpbl_us = zlev\n",
    "#         tempdiff_us = zdiff_us\n",
    "#     if zdiff_ucf < tempdiff_ucf:\n",
    "#         zpbl_ucf = zlev\n",
    "#         tempdiff_ucf = zdiff_ucf\n",
    "\n",
    "# print(zpbl_up)\n",
    "# print(zpbl_us)\n",
    "# print(zpbl_ucf)"
   ]
  },
  {
   "cell_type": "code",
   "execution_count": null,
   "id": "570903a4-d5ec-4e6c-b232-b2ac629891de",
   "metadata": {},
   "outputs": [],
   "source": [
    "# plt.figure(figsize = (4, 4), dpi = 200)\n",
    "# plt.ylim(0, 3000)\n",
    "# plt.xlim(7, 18)\n",
    "# plt.plot(afile_pasture_noon[\"VaporMix\"].isel(y = slice(500,800)).mean(dim = (\"x\", \"y\")), afile_pasture_noon[\"z\"], color = \"gold\")\n",
    "# plt.plot(afile_suburb_noon[\"VaporMix\"].isel(y = slice(500,800)).mean(dim = (\"x\", \"y\")), afile_pasture_noon[\"z\"], color = \"maroon\")\n",
    "# plt.plot(afile_coniforest_noon[\"VaporMix\"].isel(y = slice(500,800)).mean(dim = (\"x\", \"y\")), afile_pasture_noon[\"z\"], color = \"forestgreen\")\n",
    "# # plt.axhline(1700, color = \"black\")\n",
    "# plt.axhline(zpbl_up, color = \"gold\", linestyle = \"--\")\n",
    "# plt.axhline(zpbl_us, color = \"maroon\", linestyle = \"--\")\n",
    "# plt.axhline(zpbl_ucf, color = \"forestgreen\", linestyle = \"--\")"
   ]
  },
  {
   "cell_type": "code",
   "execution_count": null,
   "id": "5c4a71fe-a5d8-4246-bada-4fa5b59547e3",
   "metadata": {},
   "outputs": [],
   "source": [
    "print(afile_pastureforest_xc[\"z\"][35])"
   ]
  },
  {
   "cell_type": "code",
   "execution_count": null,
   "id": "63622083-9940-433e-95e5-58df7040fdc9",
   "metadata": {},
   "outputs": [],
   "source": [
    "vapmp = plt.pcolormesh(afile_pastureforest_xc[\"VaporMix\"].isel(y = slice(500, 700)).mean(dim = \"y\")[:40,:], vmin = 5, vmax = 20, cmap = \"BrBG\")"
   ]
  },
  {
   "cell_type": "markdown",
   "id": "60b71277-a531-4dd4-9c41-2ae3985524bb",
   "metadata": {},
   "source": [
    "## Plot Forest Breeze Vertical Cross-Section at 1200 LT"
   ]
  },
  {
   "cell_type": "code",
   "execution_count": null,
   "id": "49616c53-31c4-439b-8648-2270412938dd",
   "metadata": {},
   "outputs": [],
   "source": [
    "from astropy.convolution import convolve\n",
    "xctime = datetime.strptime(\"2022-06-17-170000\", \"%Y-%m-%d-%H%M%S\")\n",
    "afile_pastureforest_xc = xr.open_dataset(f\"/moonbow/ascheb/idealized/pastureconiforest-wind/processed_data/mergedvars_{xctime.strftime('%Y-%m-%d-%H%M%S')}.nc\")\n",
    "convuwind = np.zeros((40, len(afile_pastureforest_xc[\"x\"])))\n",
    "convwwind = np.zeros((40, len(afile_pastureforest_xc[\"x\"])))\n",
    "# trikern1d = np.array([0,1,2,3,4,5,6,7,8,9,10,9,8,7,6,5,4,3,2,1,0])\n",
    "trikern1d = np.ones(21)\n",
    "print(len(trikern1d))\n",
    "xstep = 10\n",
    "zstep = 3\n",
    "for zlev in range(0, 40):\n",
    "    convuwind[zlev,:] = convolve(afile_pastureforest_xc[\"u\"].isel(z = zlev, y = slice(500,700)).mean(dim = \"y\"), kernel = trikern1d, boundary = \"extend\", normalize_kernel = True)\n",
    "    convwwind[zlev,:] = convolve(afile_pastureforest_xc[\"w\"].isel(z = zlev, y = slice(500,700)).mean(dim = \"y\"), kernel = trikern1d, boundary = \"extend\", normalize_kernel = True)\n",
    "fig, ax1 = plt.subplots(1, 1, figsize = (5, 3.33), dpi = 300, layout = \"compressed\")\n",
    "ax1.quiver(afile_pastureforest_xc[\"x\"][xstep::xstep]-250, afile_pastureforest_xc[\"z\"][:40:zstep], convuwind[::zstep,xstep::xstep], 5*convwwind[::zstep,xstep::xstep], width = 0.002, scale = 50, zorder = 1, color = \"black\")\n",
    "from palettable.lightbartlein.diverging import BlueDarkRed18_11\n",
    "tempcmap = BlueDarkRed18_11.get_mpl_colormap()\n",
    "tempmp = ax1.pcolormesh(afile_pastureforest_xc[\"x\"], afile_pastureforest_xc[\"z\"][:40], (afile_pastureforest_xc[\"Temp\"].isel(y = slice(500,700)).mean(dim = \"y\")-afile_pastureforest_xc[\"Temp\"].isel(y = slice(500,700)).mean(dim = (\"x\", \"y\")))[:40,:], vmin = -2, vmax = 2, cmap = tempcmap, zorder = 0)\n",
    "from palettable.lightbartlein.diverging import GreenMagenta_11\n",
    "vapcmap = GreenMagenta_11.get_mpl_colormap()\n",
    "vapxc = ax1.contour(afile_pastureforest_xc[\"x\"], afile_pastureforest_xc[\"z\"][:40], afile_pastureforest_xc[\"VaporMix\"].isel(y = slice(500, 700)).mean(dim = \"y\")[:40,:], levels = [12, 14], colors = \"darkmagenta\", linestyles = \"--\", linewidths = 0.7, zorder = 1)\n",
    "ax1.clabel(vapxc, levels = [12, 14], inline = True, colors = \"black\")\n",
    "ax1.set_ylabel(\"Altitude (m)\", fontsize = 12)\n",
    "ax1.set_xlabel(\"Distance From Center (km)\", fontsize = 12)\n",
    "fig.suptitle(f\"Temperature and Wind X-Z Cross-Section at {(xctime-timedelta(hours = 5)).strftime('%H%M')} LT\", fontsize = 12)\n",
    "ax1.set_xticks([-100000, -75000, -50000, -25000, 0, 25000, 50000, 75000, 100000], labels = [-100, -75, -50, -25, 0, 25, 50, 75, 100])\n",
    "ax1.xaxis.set_tick_params(labelsize = 8)\n",
    "ax1.yaxis.set_tick_params(labelsize = 8)\n",
    "cbar = fig.colorbar(tempmp, ax = ax1, orientation = \"horizontal\", fraction = 0.07, extend = \"both\"); cbar.set_label(\"Temperature Departure from Domain Mean (K)\", fontsize = 10); cbar.ax.tick_params(labelsize = 8)\n",
    "fig.savefig(\"/moonbow/ascheb/idealized/PaperFigs/circulationplot_small.png\")\n",
    "plt.close(); del fig; del ax1"
   ]
  },
  {
   "cell_type": "code",
   "execution_count": null,
   "id": "f7c1e4c3-d0b1-4881-9228-9b93533bb4a7",
   "metadata": {},
   "outputs": [],
   "source": [
    "from astropy.convolution import convolve\n",
    "from matplotlib.lines import Line2D\n",
    "xctime = datetime.strptime(\"2022-06-17-170000\", \"%Y-%m-%d-%H%M%S\")\n",
    "afile_pastureforest_xc = xr.open_dataset(f\"/moonbow/ascheb/idealized/pastureconiforest-wind/ppfiles_paper/mvars-cart-{xctime.strftime('%Y-%m-%d-%H%M%S')}-g1.nc\")\n",
    "convuwind = np.zeros((40, len(afile_pastureforest_xc[\"x\"])))\n",
    "convwwind = np.zeros((40, len(afile_pastureforest_xc[\"x\"])))\n",
    "# trikern1d = np.array([0,1,2,3,4,5,6,7,8,9,10,9,8,7,6,5,4,3,2,1,0])\n",
    "trikern1d = np.ones(21)\n",
    "# print(len(trikern1d))\n",
    "xstep = 10\n",
    "zstep = 3\n",
    "for zlev in range(0, 40):\n",
    "    convuwind[zlev,:] = convolve(afile_pastureforest_xc[\"u\"].isel(z = zlev, y = slice(500,800)).mean(dim = \"y\"), kernel = trikern1d, boundary = \"extend\", normalize_kernel = True)\n",
    "    convwwind[zlev,:] = convolve(afile_pastureforest_xc[\"w\"].isel(z = zlev, y = slice(500,800)).mean(dim = \"y\"), kernel = trikern1d, boundary = \"extend\", normalize_kernel = True)\n",
    "fig, (ax1, ax2) = plt.subplots(2, 1, figsize = (5, 7.5), dpi = 300, layout = \"compressed\")\n",
    "axlabels = [\"(a)\", \"(b)\"]\n",
    "for i, ax in enumerate(fig.get_axes()):\n",
    "    ax.set_ylabel(\"Altitude (m)\", fontsize = 12)\n",
    "    ax.set_xticks([-100000, -75000, -50000, -25000, 0, 25000, 50000, 75000, 100000], labels = [-100, -75, -50, -25, 0, 25, 50, 75, 100])\n",
    "    ax.xaxis.set_tick_params(labelsize = 8)\n",
    "    ax.yaxis.set_tick_params(labelsize = 8)\n",
    "    left, width = 0, 0.04\n",
    "    bottom, height = 0.92, 0.08\n",
    "    right = left + width\n",
    "    top = bottom + height\n",
    "    p = plt.Rectangle((left, bottom), width, height, fill=True, zorder = 3, edgecolor = \"black\", linewidth = 0.2, facecolor = \"whitesmoke\")\n",
    "    p.set_transform(ax.transAxes)\n",
    "    p.set_clip_on(False)\n",
    "    ax.add_patch(p)\n",
    "    ax.text(left+0.5*width, bottom+0.5*height, axlabels[i], fontsize = 10, transform = ax.transAxes, horizontalalignment = \"center\", verticalalignment = \"center\")\n",
    "windmp = ax1.quiver(afile_pastureforest_xc[\"x\"][xstep::xstep]-250, afile_pastureforest_xc[\"z\"][:40:zstep], convuwind[::zstep,xstep::xstep], 5*convwwind[::zstep,xstep::xstep], width = 0.002, scale = 50, zorder = 1, color = \"black\")\n",
    "# ax2.quiverkey(windmp, 0.84, 0.92, 5, label = r\"5 $m s^{-1}$\", labelpos = \"E\", fontproperties = {\"size\": 8}, zorder = 3)\n",
    "from palettable.lightbartlein.diverging import BlueDarkRed18_11\n",
    "tempcmap = BlueDarkRed18_11.get_mpl_colormap()\n",
    "tempmp = ax1.pcolormesh(afile_pastureforest_xc[\"x\"], afile_pastureforest_xc[\"z\"][:40], (afile_pastureforest_xc[\"Temperature\"].isel(y = slice(500,800)).mean(dim = \"y\")-afile_pastureforest_xc[\"Temperature\"].isel(y = slice(500,800)).mean(dim = (\"x\", \"y\")))[:40,:], vmin = -2, vmax = 2, cmap = tempcmap, zorder = 0)\n",
    "fakecontour = Line2D([], [], color = \"darkmagenta\", linestyle = \"--\", linewidth = 1, label = r\"Water Vapor Mixing Ratio ($g \\ kg^{-1}$)\")\n",
    "# leftbound = ax1.axvline(-50000, color = \"dimgrey\", linewidth = 1, linestyle = \"-.\", label = \"Forest Boundary\", zorder = 2)\n",
    "# rightbound = ax1.axvline(50000, color = \"dimgrey\", linewidth = 1, linestyle = \"-.\", zorder = 2)\n",
    "vapxc = ax1.contour(afile_pastureforest_xc[\"x\"], afile_pastureforest_xc[\"z\"][:40], afile_pastureforest_xc[\"VaporMix\"].isel(y = slice(500, 800)).mean(dim = \"y\")[:40,:], levels = [12, 14], colors = \"darkmagenta\", linestyles = \"--\", linewidths = 0.7, zorder = 1)\n",
    "ax1.clabel(vapxc, levels = [12, 14], inline = True, colors = \"black\")\n",
    "# ax1.set_ylabel(\"Altitude (m)\", fontsize = 12)\n",
    "# ax1.set_xlabel(\"Distance From Center (km)\", fontsize = 12)\n",
    "ax1.set_title(f\"Temperature and Wind X-Z Cross-Section at {(xctime-timedelta(hours = 5)).strftime('%H%M')} LT\", fontsize = 12)\n",
    "ax1.legend(framealpha = 0.5, handles = [fakecontour], fontsize = 10)\n",
    "# ax1.set_xticks([-100000, -75000, -50000, -25000, 0, 25000, 50000, 75000, 100000], labels = [-100, -75, -50, -25, 0, 25, 50, 75, 100])\n",
    "# ax1.xaxis.set_tick_params(labelsize = 8)\n",
    "# ax1.yaxis.set_tick_params(labelsize = 8)\n",
    "tempcbar = fig.colorbar(tempmp, ax = ax1, orientation = \"horizontal\", fraction = 0.07, extend = \"both\"); tempcbar.set_label(\"Temperature Departure from Domain Mean (K)\", fontsize = 12); tempcbar.ax.tick_params(labelsize = 10)\n",
    "ax1.tick_params(labelsize = 10)\n",
    "windmp = ax2.quiver(afile_pastureforest_xc[\"x\"][xstep::xstep]-250, afile_pastureforest_xc[\"z\"][:40:zstep], convuwind[::zstep,xstep::xstep], 5*convwwind[::zstep,xstep::xstep], width = 0.002, scale = 50, zorder = 1, color = \"black\")\n",
    "msemp = ax2.pcolormesh(afile_pastureforest_xc[\"x\"], afile_pastureforest_xc[\"z\"][:40], calc_mse(afile_pastureforest_xc.isel(y = slice(500,800)).isel(z = slice(0,40)).mean(dim = \"y\")), cmap = \"Spectral_r\", vmin = 330, vmax = 345, zorder = 0)\n",
    "ax2.quiverkey(windmp, 0.84, 0.92, 5, label = r\"5 $m s^{-1}$\", labelpos = \"E\", fontproperties = {\"size\": 10}, zorder = 3)\n",
    "# msemp = ax2.pcolormesh(afile_pastureforest_xc[\"x\"], afile_pastureforest_xc[\"z\"][:40], afile_pastureforest_xc[\"Temperature\"].isel(y = slice(500,800), z = slice(0,40)).mean(dim = \"y\") + 1864/(1004 * 1000) * afile_pastureforest_xc[\"VaporMix\"].isel(y = slice(500, 800), z = slice(0, 40)).mean(dim = \"y\"), cmap = \"Spectral_r\", zorder = 0)\n",
    "# msemp = ax2.pcolormesh(afile_pastureforest_xc[\"x\"], afile_pastureforest_xc[\"z\"][:40], (afile_pastureforest_xc[\"Temperature\"].isel(y = slice(500,800), z = slice(0,40)).mean(dim = \"y\")  + afile_pastureforest_xc[\"VaporMix\"].isel(y = slice(500,800), z = slice(0, 40)).mean(dim = \"y\") * 2.5*10**3 / 1004) * (1000/afile_pastureforest_xc[\"Pressure\"].isel(y = slice(500,800), z = slice(0, 40)).mean(dim = \"y\"))**0.286, cmap = \"Spectral_r\", zorder = 0)\n",
    "ax2.set_title(f\"MSE and Wind X-Z Cross-Section at {(xctime-timedelta(hours = 5)).strftime('%H%M')} LT\", fontsize = 12)\n",
    "ax2.set_xlabel(\"Distance From Center (km)\", fontsize = 12)\n",
    "msecbar = fig.colorbar(msemp, ax = ax2, orientation = \"horizontal\", fraction = 0.07, extend = \"both\")\n",
    "msecbar.set_label(\"Normalized Moist Static Energy (K)\", fontsize = 12)\n",
    "msecbar.ax.set_xticks([330, 335, 340, 345])\n",
    "msecbar.ax.tick_params(labelsize = 10)\n",
    "ax2.tick_params(labelsize = 10)\n",
    "fig.get_layout_engine().set(h_pad = 0.05, hspace = 0.1)\n",
    "fig.savefig(\"/moonbow/ascheb/idealized/PaperFigs/circulationplot_2panel.png\")\n",
    "# plt.close(); del fig; del ax1; del ax2"
   ]
  },
  {
   "cell_type": "markdown",
   "id": "c19fe7e7-cef1-4bda-8832-9894b0dbad7b",
   "metadata": {},
   "source": [
    "## Comparing Simulations with and Without Background Wind"
   ]
  },
  {
   "cell_type": "code",
   "execution_count": null,
   "id": "b48da89c-66da-4af8-b61c-6d003829237b",
   "metadata": {},
   "outputs": [],
   "source": [
    "# afile_pastureconiforest_wind_end = xr.open_dataset(\"/moonbow/ascheb/idealized/pastureconiforest-wind/processed_data/mergedvars_2022-06-17-230000.nc\")\n",
    "# afile_pastureconiforest_nowind_end = xr.open_dataset(\"/moonbow/ascheb/idealized/pastureconiforest-nowind/processed_data/mergedvars_2022-06-17-230000.nc\")\n",
    "# afile_pasture_wind_end = xr.open_dataset(\"/moonbow/ascheb/idealized/unipasture-wind/processed_data/mergedvars_2022-06-17-230000.nc\")\n",
    "# afile_pasture_nowind_end = xr.open_dataset(\"/moonbow/ascheb/idealized/unipasture-nowind/processed_data/mergedvars_2022-06-17-230000.nc\")"
   ]
  },
  {
   "cell_type": "code",
   "execution_count": null,
   "id": "44a1d02e-978a-48c3-9473-79d8138af28f",
   "metadata": {},
   "outputs": [],
   "source": [
    "# # for field in fields:\n",
    "# fig, ((ax11, ax12), (ax21, ax22)) = plt.subplots(2, 2, figsize = (16.67, 25), dpi = 200, layout = \"constrained\")\n",
    "# for ax in fig.get_axes():\n",
    "#     ax.set_aspect(1)\n",
    "#     ax.set_xticks([])\n",
    "#     ax.set_yticks([])\n",
    "# for ax in (ax11, ax21):\n",
    "#     ax.set_ylabel(\"Distance from Shore (km)\")\n",
    "#     ax.set_yticks([200, 300, 450, 600, 800], labels = [\"-50 \", \"0  \", \"75 \", 150, 250])\n",
    "# for ax in (ax21, ax22):\n",
    "#     ax.set_xlabel(\"Distance from Center (km)\")\n",
    "#     ax.set_xticks([0, 100, 200, 300, 400], labels = [-100, -50, 0, 50, 100])\n",
    "# ax11.set_title(\"Pasture - Wind\", fontfamily = \"Liberation Serif\", y = 1.02)\n",
    "# ax12.set_title(\"Pasture - No Wind\", fontfamily = \"Liberation Serif\", y = 1.02)\n",
    "# ax21.set_title(\"Pasture-ENF - Wind\", fontfamily = \"Liberation Serif\", y = 1.02)\n",
    "# ax22.set_title(\"Pasture-ENF - No Wind\", fontfamily = \"Liberation Serif\", y = 1.02)\n",
    "# t = datetime(2022, 6, 17, 23, 0, 0)\n",
    "# fig.suptitle(f\"Accumulated Rainfall as of{(t-timedelta(hours=5)).strftime('%H%M')} LT\")\n",
    "# rainbounds = [0, 0.1, 0.3, 0.5, 1.5, 2.5, 5.5, 7.5, 11.75, 15, 20, 25, 37.5, 50, 70]\n",
    "# rainnorm = BoundaryNorm(boundaries = rainbounds, ncolors = 256, extend = \"max\")\n",
    "# rainmp = ax11.pcolormesh(np.linspace(0, 400, 401), np.linspace(200, 800, 601), afile_pasture_wind_end[\"RainPrecipTotal\"].where(afile_pasture_wind_end[\"RainPrecipTotal\"]>0.01).isel(y = slice(200,800)), cmap = \"jet\", norm = rainnorm)\n",
    "# ax12.pcolormesh(np.linspace(0, 400, 401), np.linspace(200, 800, 601), afile_pasture_nowind_end[\"RainPrecipTotal\"].where(afile_pasture_nowind_end[\"RainPrecipTotal\"]>0.01).isel(y = slice(200,800)), cmap = \"jet\", norm = rainnorm)\n",
    "# ax21.pcolormesh(np.linspace(0, 400, 401), np.linspace(200, 800, 601), afile_pastureconiforest_wind_end[\"RainPrecipTotal\"].where(afile_pastureconiforest_wind_end[\"RainPrecipTotal\"]>0.01).isel(y = slice(200,800)), cmap = \"jet\", norm = rainnorm)\n",
    "# ax22.pcolormesh(np.linspace(0, 400, 401), np.linspace(200, 800, 601), afile_pastureconiforest_nowind_end[\"RainPrecipTotal\"].where(afile_pastureconiforest_nowind_end[\"RainPrecipTotal\"]>0.01).isel(y = slice(200,800)), cmap = \"jet\", norm = rainnorm)\n",
    "# for ax in fig.get_axes():\n",
    "#     ax.axhline(300, color = \"white\", linestyle = \"--\", label = \"shoreline\", linewidth = 2)\n",
    "#     ax.legend(loc = \"lower left\", fontsize = 30)\n",
    "# cbar = fig.colorbar(rainmp, ax = fig.get_axes(), orientation = \"horizontal\", fraction = 0.05, extend = \"max\"); cbar.set_label(\"Rain Rate (mm/hr)\")\n",
    "# fig.savefig(f\"/moonbow/ascheb/idealized/combplots/raintotal_windcomp.png\")"
   ]
  },
  {
   "cell_type": "code",
   "execution_count": null,
   "id": "114fff94-99d6-4acc-8f2f-d7281d3cca3b",
   "metadata": {},
   "outputs": [],
   "source": [
    "# print(afile_pastureforest_xc.variables)"
   ]
  },
  {
   "cell_type": "code",
   "execution_count": null,
   "id": "a5ffa4b7-8ac8-4efa-8321-3b047ccf1051",
   "metadata": {},
   "outputs": [],
   "source": []
  }
 ],
 "metadata": {
  "kernelspec": {
   "display_name": "Python 3 (ipykernel)",
   "language": "python",
   "name": "python3"
  },
  "language_info": {
   "codemirror_mode": {
    "name": "ipython",
    "version": 3
   },
   "file_extension": ".py",
   "mimetype": "text/x-python",
   "name": "python",
   "nbconvert_exporter": "python",
   "pygments_lexer": "ipython3",
   "version": "3.10.12"
  }
 },
 "nbformat": 4,
 "nbformat_minor": 5
}
