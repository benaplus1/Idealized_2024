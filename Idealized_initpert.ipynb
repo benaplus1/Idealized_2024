{
 "cells": [
  {
   "cell_type": "code",
   "execution_count": null,
   "id": "45029a92-d0a1-4b62-9800-709e140f6e22",
   "metadata": {},
   "outputs": [],
   "source": [
    "import numpy as np\n",
    "import xarray as xr\n",
    "import pandas as pd\n",
    "# import matplotlib.pyplot as plt\n",
    "# %matplotlib inline\n",
    "import h5py\n",
    "import shutil\n",
    "import matplotlib as mpl\n",
    "from scipy.ndimage import gaussian_filter"
   ]
  },
  {
   "cell_type": "code",
   "execution_count": 2,
   "id": "59102506-d3b9-4231-a650-b863fd473990",
   "metadata": {},
   "outputs": [],
   "source": [
    "def random_pert(thetafield, srfpertmag, zscl, zmax, modlvs):\n",
    "    rng = np.random.default_rng()\n",
    "    srfthetaperts = rng.normal(0, srfpertmag/3, np.shape(thetafield[0,:,:])) #Apply normally-distributed random-perturbations to the surface potential temp field\n",
    "    #The reason for using srfpertmag/3 here is that 99.7% of randomly generated perturbations will be less than the value of srfpertmag. The higher values will be truncated below\n",
    "    srfthetaperts = np.where(np.absolute(srfthetaperts)<srfpertmag, srfthetaperts, srfpertmag*np.sign(srfthetaperts)) #Truncate values over srfpertmag down to srfpertmag\n",
    "    srfthetaperts = gaussian_filter(srfthetaperts, 1) #Smooth the surface theta field with a gaussian kernel\n",
    "    thetaperts = np.ones_like(thetafield)*srfthetaperts[None,:,:] #Broadcast the 2D surface temperature perturbation array to 3D\n",
    "    zmask = np.where(modlvs<=zmax, 1, 0)\n",
    "    # print(zmask)\n",
    "    thetaperts[2:,:,:] = thetaperts[1,:,:]*np.exp(-modlvs[2:,None,None]/zscl)*zmask[2:,None,None] #Exponentially decreasing temperature perturbations up to zmax\n",
    "    thetafield_new = thetafield+thetaperts #Add temperature perturbations to pre-existing temperature field\n",
    "    return thetafield_new"
   ]
  },
  {
   "cell_type": "code",
   "execution_count": 3,
   "id": "a3ab0d65-a43e-4510-9ea6-3f5cc4eefafd",
   "metadata": {},
   "outputs": [],
   "source": [
    "def get_zstar(topomin, dz0, dzrat, dzmax, nz):\n",
    "    # print(zprops)\n",
    "    z0star = topomin-dz0/2*dzrat**(-0.75) #Depth of first level (below ground, not used in analysis)\n",
    "    zstarlvs = np.zeros(nz)\n",
    "    zstarlvs[0] = z0star\n",
    "    for zlev in range(1, nz):\n",
    "        zstarlvs[zlev] = zstarlvs[zlev-1]+min(dz0*dzrat**(zlev-1.5), dzmax) #Get \n",
    "    return zstarlvs"
   ]
  },
  {
   "cell_type": "code",
   "execution_count": null,
   "id": "0c0a09fd-1cdf-488e-b448-3de465f1fc7f",
   "metadata": {},
   "outputs": [],
   "source": [
    "topo = xr.open_dataset(\"/moonbow/ascheb/escape/idealized/unipasture-wind/toph-S-g1.h5\")[\"TOPT\"]; topomin = topo.min(); topo.close(); \n",
    "dz0 = 30; dzrat = 1.05; dzmax = 300; nz = 105\n",
    "print(get_zstar(topomin, dz0, dzrat, dzmax, nz))\n",
    "modlvs = get_zstar(topomin, dz0, dzrat, dzmax, nz)\n",
    "srfpertmag = 1; zscl = 300; zmax = 1000\n",
    "\n",
    "srfprepath = \"/moonbow/ascheb/escape/idealized/unipasture-wind/\"\n",
    "inittime = \"2022-06-17-060000\"\n",
    "afile = h5py.File(f\"{srfprepath}rams_output/a-A-{inittime}-g1.h5\", \"r+\")\n",
    "thetacopy = np.copy(afile[\"THETA\"])\n",
    "newtheta = random_pert(thetacopy, srfpertmag, zscl, zmax, modlvs)\n",
    "afile[\"THETA\"][:,:,:] = newtheta\n",
    "afile.close();"
   ]
  },
  {
   "cell_type": "code",
   "execution_count": null,
   "id": "1ff0957d-d3c5-42af-b67e-5583acbc5204",
   "metadata": {},
   "outputs": [],
   "source": [
    "topo = xr.open_dataset(\"/moonbow/ascheb/escape/idealized/coniforest-wind/toph-S-g1.h5\")[\"TOPT\"]; topomin = topo.min(); topo.close(); \n",
    "dz0 = 30; dzrat = 1.05; dzmax = 300; nz = 105\n",
    "print(get_zstar(topomin, dz0, dzrat, dzmax, nz))\n",
    "modlvs = get_zstar(topomin, dz0, dzrat, dzmax, nz)\n",
    "srfpertmag = 1; zscl = 300; zmax = 1000\n",
    "\n",
    "srfprepath = \"/moonbow/ascheb/escape/idealized/coniforest-wind/\"\n",
    "inittime = \"2022-06-17-060000\"\n",
    "afile = h5py.File(f\"{srfprepath}rams_output/a-A-{inittime}-g1.h5\", \"r+\")\n",
    "thetacopy = np.copy(afile[\"THETA\"])\n",
    "newtheta = random_pert(thetacopy, srfpertmag, zscl, zmax, modlvs)\n",
    "afile[\"THETA\"][:,:,:] = newtheta\n",
    "afile.close();"
   ]
  },
  {
   "cell_type": "code",
   "execution_count": null,
   "id": "393a4fb0-335f-402c-a9bf-339e4ac7f2c6",
   "metadata": {},
   "outputs": [],
   "source": [
    "topo = xr.open_dataset(\"/moonbow/ascheb/escape/idealized/unisuburb-wind/toph-S-g1.h5\")[\"TOPT\"]; topomin = topo.min(); topo.close(); \n",
    "dz0 = 30; dzrat = 1.05; dzmax = 300; nz = 105\n",
    "print(get_zstar(topomin, dz0, dzrat, dzmax, nz))\n",
    "modlvs = get_zstar(topomin, dz0, dzrat, dzmax, nz)\n",
    "srfpertmag = 1; zscl = 300; zmax = 1000\n",
    "\n",
    "srfprepath = \"/moonbow/ascheb/escape/idealized/unisuburb-wind/\"\n",
    "inittime = \"2022-06-17-060000\"\n",
    "afile = h5py.File(f\"{srfprepath}rams_output/a-A-{inittime}-g1.h5\", \"r+\")\n",
    "thetacopy = np.copy(afile[\"THETA\"])\n",
    "newtheta = random_pert(thetacopy, srfpertmag, zscl, zmax, modlvs)\n",
    "afile[\"THETA\"][:,:,:] = newtheta\n",
    "afile.close();"
   ]
  },
  {
   "cell_type": "code",
   "execution_count": 1,
   "id": "a6e1e681-5777-4f23-ac7c-22c63a1cec46",
   "metadata": {},
   "outputs": [
    {
     "ename": "NameError",
     "evalue": "name 'xr' is not defined",
     "output_type": "error",
     "traceback": [
      "\u001b[0;31m---------------------------------------------------------------------------\u001b[0m",
      "\u001b[0;31mNameError\u001b[0m                                 Traceback (most recent call last)",
      "Cell \u001b[0;32mIn[1], line 1\u001b[0m\n\u001b[0;32m----> 1\u001b[0m topo \u001b[38;5;241m=\u001b[39m \u001b[43mxr\u001b[49m\u001b[38;5;241m.\u001b[39mopen_dataset(\u001b[38;5;124m\"\u001b[39m\u001b[38;5;124m/moonbow/ascheb/escape/idealized/exp1_coarse4/toph-S-g1.h5\u001b[39m\u001b[38;5;124m\"\u001b[39m)[\u001b[38;5;124m\"\u001b[39m\u001b[38;5;124mTOPT\u001b[39m\u001b[38;5;124m\"\u001b[39m]; topomin \u001b[38;5;241m=\u001b[39m topo\u001b[38;5;241m.\u001b[39mmin(); topo\u001b[38;5;241m.\u001b[39mclose(); \n\u001b[1;32m      2\u001b[0m dz0 \u001b[38;5;241m=\u001b[39m \u001b[38;5;241m30\u001b[39m; dzrat \u001b[38;5;241m=\u001b[39m \u001b[38;5;241m1.05\u001b[39m; dzmax \u001b[38;5;241m=\u001b[39m \u001b[38;5;241m300\u001b[39m; nz \u001b[38;5;241m=\u001b[39m \u001b[38;5;241m105\u001b[39m\n\u001b[1;32m      3\u001b[0m \u001b[38;5;28mprint\u001b[39m(get_zstar(topomin, dz0, dzrat, dzmax, nz))\n",
      "\u001b[0;31mNameError\u001b[0m: name 'xr' is not defined"
     ]
    }
   ],
   "source": [
    "topo = xr.open_dataset(\"/moonbow/ascheb/escape/idealized/pastureconiforest-wind/toph-S-g1.h5\")[\"TOPT\"]; topomin = topo.min(); topo.close(); \n",
    "dz0 = 30; dzrat = 1.05; dzmax = 300; nz = 105\n",
    "print(get_zstar(topomin, dz0, dzrat, dzmax, nz))\n",
    "modlvs = get_zstar(topomin, dz0, dzrat, dzmax, nz)\n",
    "srfpertmag = 1; zscl = 300; zmax = 1000\n",
    "\n",
    "srfprepath = \"/moonbow/ascheb/escape/idealized/pastureconiforest-wind/\"\n",
    "inittime = \"2022-06-17-060000\"\n",
    "afile = h5py.File(f\"{srfprepath}rams_output/a-A-{inittime}-g1.h5\", \"r+\")\n",
    "thetacopy = np.copy(afile[\"THETA\"])\n",
    "newtheta = random_pert(thetacopy, srfpertmag, zscl, zmax, modlvs)\n",
    "afile[\"THETA\"][:,:,:] = newtheta\n",
    "afile.close();"
   ]
  },
  {
   "cell_type": "code",
   "execution_count": null,
   "id": "c4ddc668-c467-41c6-ba49-c0fe9db960b5",
   "metadata": {},
   "outputs": [],
   "source": [
    "topo = xr.open_dataset(\"/moonbow/ascheb/escape/idealized/suburbconiforest-wind/toph-S-g1.h5\")[\"TOPT\"]; topomin = topo.min(); topo.close(); \n",
    "dz0 = 30; dzrat = 1.05; dzmax = 300; nz = 105\n",
    "print(get_zstar(topomin, dz0, dzrat, dzmax, nz))\n",
    "modlvs = get_zstar(topomin, dz0, dzrat, dzmax, nz)\n",
    "srfpertmag = 1; zscl = 300; zmax = 1000\n",
    "\n",
    "srfprepath = \"/moonbow/ascheb/escape/idealized/suburbconiforest-wind/\"\n",
    "inittime = \"2022-06-17-060000\"\n",
    "afile = h5py.File(f\"{srfprepath}rams_output/a-A-{inittime}-g1.h5\", \"r+\")\n",
    "thetacopy = np.copy(afile[\"THETA\"])\n",
    "newtheta = random_pert(thetacopy, srfpertmag, zscl, zmax, modlvs)\n",
    "afile[\"THETA\"][:,:,:] = newtheta\n",
    "afile.close();"
   ]
  },
  {
   "cell_type": "code",
   "execution_count": null,
   "id": "50c2ac88-78dc-4f8b-8caa-8d247c5277e6",
   "metadata": {},
   "outputs": [],
   "source": [
    "topo = xr.open_dataset(\"/moonbow/ascheb/escape/idealized/suburbpasture-wind/toph-S-g1.h5\")[\"TOPT\"]; topomin = topo.min(); topo.close(); \n",
    "dz0 = 30; dzrat = 1.05; dzmax = 300; nz = 105\n",
    "print(get_zstar(topomin, dz0, dzrat, dzmax, nz))\n",
    "modlvs = get_zstar(topomin, dz0, dzrat, dzmax, nz)\n",
    "srfpertmag = 1; zscl = 300; zmax = 1000\n",
    "\n",
    "srfprepath = \"/moonbow/ascheb/escape/idealized/suburbpasture-wind/\"\n",
    "inittime = \"2022-06-17-060000\"\n",
    "afile = h5py.File(f\"{srfprepath}rams_output/a-A-{inittime}-g1.h5\", \"r+\")\n",
    "thetacopy = np.copy(afile[\"THETA\"])\n",
    "newtheta = random_pert(thetacopy, srfpertmag, zscl, zmax, modlvs)\n",
    "afile[\"THETA\"][:,:,:] = newtheta\n",
    "afile.close();"
   ]
  }
 ],
 "metadata": {
  "kernelspec": {
   "display_name": "Python 3 (ipykernel)",
   "language": "python",
   "name": "python3"
  },
  "language_info": {
   "codemirror_mode": {
    "name": "ipython",
    "version": 3
   },
   "file_extension": ".py",
   "mimetype": "text/x-python",
   "name": "python",
   "nbconvert_exporter": "python",
   "pygments_lexer": "ipython3",
   "version": "3.10.12"
  }
 },
 "nbformat": 4,
 "nbformat_minor": 5
}
